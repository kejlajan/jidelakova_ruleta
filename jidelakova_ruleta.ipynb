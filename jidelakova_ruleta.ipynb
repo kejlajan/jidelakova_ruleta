{
 "cells": [
  {
   "cell_type": "code",
   "execution_count": 18,
   "id": "50a55783",
   "metadata": {},
   "outputs": [],
   "source": [
    "import random\n",
    "import sys"
   ]
  },
  {
   "cell_type": "code",
   "execution_count": 32,
   "id": "21feb198",
   "metadata": {},
   "outputs": [],
   "source": [
    "def FoodnameFromArgs (*args):\n",
    "    if len(args) == 0:\n",
    "        return \"no args provided\"\n",
    "    else:\n",
    "        set_of_args = set(args)\n",
    "        foodnames = []\n",
    "        # Iterate through the outer dictionary\n",
    "        for jidlo in my_dict[\"jidla\"]:\n",
    "            # Iterate through the inner dictionaries\n",
    "            for jmeno, details in jidlo.items():\n",
    "                if set(details[\"surky\"]) <= set_of_args:\n",
    "                    foodnames.append(jmeno)\n",
    "        return foodnames\n",
    "                    \n",
    "        "
   ]
  },
  {
   "cell_type": "code",
   "execution_count": 33,
   "id": "4c2ab0f6",
   "metadata": {},
   "outputs": [],
   "source": [
    "my_dict = {\n",
    "        \"jidla\": [\n",
    "            {\n",
    "                \"svickova\": {\n",
    "                    \"surky\": [\"maso\", \"mrkev\", \"cibule\"],\n",
    "                    \"postup\": \"Nakrajime surky, hodime je do hrnce a tak uvarime svickajdu, nebo ne, ja nevim\",\n",
    "                }\n",
    "            },\n",
    "            {\n",
    "                \"koprovka\": {\n",
    "                    \"surky\": [\"vejce\", \"kopr\", \"cibule\"],\n",
    "                    \"postup\": \"Nakrajime surky, hodime je do hrnce a tak uvarime kopracku, nebo ne, ja nevim\",\n",
    "                }\n",
    "            },\n",
    "            {\n",
    "                \"parky\": {\n",
    "                    \"surky\": [\"parky\", \"chleba\"],\n",
    "                    \"postup\": \"Nakrajime surky, hodime je do hrnce a tak uvarime kopracku, nebo ne, ja nevim\",\n",
    "                }\n",
    "            },\n",
    "        ]\n",
    "    }"
   ]
  },
  {
   "cell_type": "code",
   "execution_count": 36,
   "id": "daa70f1a",
   "metadata": {},
   "outputs": [
    {
     "data": {
      "text/plain": [
       "['svickova', 'koprovka']"
      ]
     },
     "execution_count": 36,
     "metadata": {},
     "output_type": "execute_result"
    }
   ],
   "source": [
    "FoodnameFromArgs(\"maso\", \"mrkev\", \"cibule\", \"kopr\", \"vejce\")"
   ]
  },
  {
   "cell_type": "code",
   "execution_count": 21,
   "id": "cfc6a978",
   "metadata": {},
   "outputs": [
    {
     "name": "stdout",
     "output_type": "stream",
     "text": [
      "Jídlo: svickova\n",
      "Suroviny:\n",
      "\t- maso\n",
      "\t- mrkev\n",
      "\t- cibule\n",
      "Postup:\n",
      "\tNakrajime surky, hodime je do hrnce a tak uvarime svickajdu, nebo ne, ja nevim\n"
     ]
    }
   ],
   "source": [
    "\n",
    "\n",
    "# # sys.argv[0] is the script name, and sys.argv[1:] are the command-line arguments\n",
    "# if len(sys.argv) > 1:\n",
    "    \n",
    "#     arguments=[]\n",
    "#     for arg in sys.argv[1:]:\n",
    "#         print(\"Argument:\", arg)\n",
    "#         arguments.append(str(arg))\n",
    "    \n",
    "    \n",
    "    \n",
    "# else:\n",
    "#     print(\"No arguments provided.\")\n",
    "\n",
    "    \n",
    "    \n",
    "\n",
    "# # Iterate through the outer dictionary\n",
    "# for jidlo in my_dict[\"jidla\"]:\n",
    "#     # Iterate through the inner dictionaries\n",
    "#     for jmeno, details in jidlo.items():\n",
    "#         print(\"Jídlo:\", jmeno)\n",
    "#         for key, value in details.items():\n",
    "#             if key == \"surky\":\n",
    "#                 print(\"Suroviny:\")\n",
    "#                 for surovina in value:\n",
    "#                     print(\"- \" + surovina)\n",
    "#             elif key == \"postup\":\n",
    "#                 print(\"Postup:\")\n",
    "#                 print(value)\n",
    "#             else:\n",
    "#                 print(key + \":\", value)\n",
    "#         print()\n",
    "\n",
    "\n",
    "random.shuffle(my_dict[\"jidla\"])\n",
    "\n",
    "# # Iterate through the outer dictionary\n",
    "# for jidlo in my_dict[\"jidla\"]:\n",
    "#     # Iterate through the inner dictionaries\n",
    "#     for jmeno, details in jidlo.items():\n",
    "#         print(\"Jídlo:\", jmeno)\n",
    "#         for key, value in details.items():\n",
    "#             if key == \"surky\":\n",
    "#                 print(\"Suroviny:\")\n",
    "#                 for surovina in value:\n",
    "#                     print(\"- \" + surovina)\n",
    "#             elif key == \"postup\":\n",
    "#                 print(\"Postup:\")\n",
    "#                 print(value)\n",
    "#             else:\n",
    "#                 print(key + \":\", value)\n",
    "#         print()\n",
    "\n",
    "# Access the first item in the \"jidla\" list\n",
    "first_dish = my_dict[\"jidla\"][0]\n",
    "\n",
    "# Iterate through the first dish\n",
    "for jmeno, details in first_dish.items():\n",
    "    print(\"Jídlo:\", jmeno)\n",
    "    for key, value in details.items():\n",
    "        if key == \"surky\":\n",
    "            print(\"Suroviny:\")\n",
    "            for surovina in value:\n",
    "                print(\"\\t- \" + surovina)\n",
    "        elif key == \"postup\":\n",
    "            print(\"Postup:\")\n",
    "            print(f\"\\t{value}\")\n",
    "        else:\n",
    "            print(key + \":\", value)"
   ]
  },
  {
   "cell_type": "code",
   "execution_count": null,
   "id": "b3fa93e1",
   "metadata": {},
   "outputs": [],
   "source": []
  }
 ],
 "metadata": {
  "kernelspec": {
   "display_name": "Python 3 (ipykernel)",
   "language": "python",
   "name": "python3"
  },
  "language_info": {
   "codemirror_mode": {
    "name": "ipython",
    "version": 3
   },
   "file_extension": ".py",
   "mimetype": "text/x-python",
   "name": "python",
   "nbconvert_exporter": "python",
   "pygments_lexer": "ipython3",
   "version": "3.9.16"
  }
 },
 "nbformat": 4,
 "nbformat_minor": 5
}
