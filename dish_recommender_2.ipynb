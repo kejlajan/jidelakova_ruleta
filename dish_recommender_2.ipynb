{
 "cells": [
  {
   "cell_type": "code",
   "execution_count": 1,
   "id": "50a55783",
   "metadata": {},
   "outputs": [],
   "source": [
    "import random\n",
    "import json\n",
    "import tkinter as tk\n",
    "from tkinter import filedialog"
   ]
  },
  {
   "cell_type": "code",
   "execution_count": 2,
   "id": "864bcad4",
   "metadata": {},
   "outputs": [],
   "source": [
    "# searches for a dish by name and returns its list of ingredients\n",
    "def IngredientsFromName (name):\n",
    "    try:\n",
    "        return my_dict[\"jidla\"][name][name][\"surky\"]\n",
    "    except KeyError as K:\n",
    "        pokrm_co_chybi = str(K).split(\"'\")[1]\n",
    "        return f\"KeyError: Pokrm zvany '{pokrm_co_chybi}' nebyl v kucharce nalezen.\"\n",
    "        \n",
    "\n",
    "# searches for a dish by name and returns its final cost vector\n",
    "def CostVectFromName (name):\n",
    "        return [ surky_doma[ingredient] for ingredient in IngredientsFromName(name)]\n",
    "\n",
    "\n",
    "\n",
    "# returns ingredients amount vector from name\n",
    "def IngrAmountVectFromName (name):\n",
    "    try:\n",
    "        return my_dict[\"jidla\"][name][name][\"mnozstvi\"]\n",
    "    except KeyError as K:\n",
    "        pokrm_co_chybi = str(K).split(\"'\")[1]\n",
    "        return f\"KeyError: Pokrm zvany '{pokrm_co_chybi}' nebyl v kucharce nalezen.\"\n",
    "\n",
    "\n",
    "# searches for a dish by name and returns its final cost vector\n",
    "def CostFromName (name):\n",
    "        return round(sum([a * b for a,b in zip(CostVectFromName(name), IngrAmountVectFromName(name))]),2)\n",
    "\n",
    "\n",
    "# searches for the dishes that are cookable with @home ingredients\n",
    "def NameFromIngredients (*args):\n",
    "    if len(args) < 1:\n",
    "        return \"NameFromIngredientsError: Zadne ingredience nebyly zadany -- nejake zadejte.\"\n",
    "    else:\n",
    "        set_of_args = set(args)\n",
    "        foodnames = []\n",
    "        for jidlo in list(my_dict[\"jidla\"].keys()):\n",
    "            if set(IngredientsFromName(jidlo)) <= set_of_args:\n",
    "                foodnames.append(jidlo)\n",
    "            else:\n",
    "                pass\n",
    "        return foodnames\n",
    "\n",
    "    \n",
    "# returns details from name nicely\n",
    "def DetailsFromName (name):\n",
    "    jidlo = my_dict[\"jidla\"][name][name]\n",
    "    return name, jidlo[\"surky\"], jidlo[\"mnozstvi\"], jidlo[\"postup\"]\n",
    "\n",
    "\n",
    "# prints details of a food nicely\n",
    "def PrintDetailsFromName (name):\n",
    "    dish, ingredients_vector, amount_vector, recipe = DetailsFromName(name) \n",
    "    print(f'{dish.upper()}:')\n",
    "    print(\"---------------------------------------\")\n",
    "    print(f'''Postup:\n",
    "{recipe}''')\n",
    "    for ingredient, amount in zip(ingredients_vector, amount_vector):\n",
    "        print(f'-- {ingredient} ... {amount}')"
   ]
  },
  {
   "cell_type": "markdown",
   "id": "e150d27b",
   "metadata": {},
   "source": [
    "# /\\*jakoby\\*/ main{..."
   ]
  },
  {
   "cell_type": "markdown",
   "id": "707602c7",
   "metadata": {},
   "source": [
    "### run GUI:"
   ]
  },
  {
   "cell_type": "code",
   "execution_count": 3,
   "id": "b1f3079f",
   "metadata": {},
   "outputs": [],
   "source": [
    "def OpenFileOpenDialog():\n",
    "    file_path = filedialog.askopenfilename(initialdir=\"./\", title=\"Select a file\")\n",
    "    if file_path:\n",
    "        inspect_file_BTN.config(state=tk.NORMAL)\n",
    "        global selected_file_STR\n",
    "        selected_file_STR = file_path\n",
    "        UpdateSelectedFilepath()\n",
    "\n",
    "def InspectFile():\n",
    "    if 'selected_file_STR' in globals():\n",
    "        with open(selected_file_STR, 'r') as file:\n",
    "            file_contents = file.read()\n",
    "            display_window = tk.Toplevel(root_WIN)\n",
    "            display_window.title(\"File Contents\")\n",
    "            text_widget = tk.Text(display_window)\n",
    "            text_widget.insert(tk.END, file_contents)\n",
    "            text_widget.pack()\n",
    "\n",
    "def UpdateSelectedFilepath():\n",
    "    path_to_file_LBL.config(text = f\"selcted file is: {selected_file_STR}\")\n",
    "\n",
    "def LaunchKucharka():\n",
    "    root_WIN.destroy()\n",
    "\n",
    "selected_file_STR = 'none yet'\n",
    "\n",
    "root_WIN = tk.Tk()\n",
    "\n",
    "select_file_BTN = tk.Button(root_WIN, text='select file', command = OpenFileOpenDialog)\n",
    "select_file_BTN.pack()\n",
    "\n",
    "path_to_file_LBL = tk.Label(root_WIN, text = f'selected file is: {selected_file_STR}')\n",
    "path_to_file_LBL.pack()\n",
    "\n",
    "\n",
    "inspect_file_BTN = tk.Button(root_WIN, text = 'inspect selected file', command = InspectFile)\n",
    "inspect_file_BTN.pack()\n",
    "\n",
    "launch_kucharka_BTN = tk.Button(root_WIN, text = 'Launch kucharka', command = LaunchKucharka )\n",
    "launch_kucharka_BTN.pack()\n",
    "\n",
    "root_WIN.mainloop()"
   ]
  },
  {
   "cell_type": "code",
   "execution_count": null,
   "id": "3e7cee1a",
   "metadata": {},
   "outputs": [],
   "source": [
    "# read surky from file\n",
    "surky_doma = {}\n",
    "with open('./doma.surky', 'r') as surky_file:\n",
    "    for line in surky_file:\n",
    "        line = line.strip()  # Remove leading/trailing whitespace, including '\\n'\n",
    "        if not line.startswith('#'):\n",
    "            line = line.split() # split by spaces\n",
    "            surky_doma[line[0]]=float(line[1]) # add into dictionary\n",
    "\n",
    "\n",
    "\n",
    "# read kucharka from file\n",
    "with open(\"./kucharka_2.json\", \"r\",) as kucharka_json_file:\n",
    "    my_dict = json.load(kucharka_json_file)"
   ]
  },
  {
   "cell_type": "code",
   "execution_count": null,
   "id": "b3fa93e1",
   "metadata": {},
   "outputs": [],
   "source": [
    "ingredients_at_home = list(surky_doma.keys())\n",
    "names_of_dishes_availible = NameFromIngredients(*ingredients_at_home)\n",
    "for dish in names_of_dishes_availible:\n",
    "    print(f\"{dish} ... {CostFromName(dish)},\")"
   ]
  },
  {
   "cell_type": "code",
   "execution_count": null,
   "id": "d8f941aa",
   "metadata": {},
   "outputs": [],
   "source": [
    "names_of_dishes_availible"
   ]
  },
  {
   "cell_type": "code",
   "execution_count": null,
   "id": "25d20a4e",
   "metadata": {},
   "outputs": [],
   "source": [
    "for dish in names_of_dishes_availible:\n",
    "    print(\"=======================================\")\n",
    "    PrintDetailsFromName(dish)\n",
    "print(\"=======================================\")"
   ]
  },
  {
   "cell_type": "code",
   "execution_count": null,
   "id": "3564fca4",
   "metadata": {},
   "outputs": [],
   "source": []
  }
 ],
 "metadata": {
  "kernelspec": {
   "display_name": "Python 3 (ipykernel)",
   "language": "python",
   "name": "python3"
  },
  "language_info": {
   "codemirror_mode": {
    "name": "ipython",
    "version": 3
   },
   "file_extension": ".py",
   "mimetype": "text/x-python",
   "name": "python",
   "nbconvert_exporter": "python",
   "pygments_lexer": "ipython3",
   "version": "3.9.16"
  }
 },
 "nbformat": 4,
 "nbformat_minor": 5
}
