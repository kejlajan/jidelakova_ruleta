{
 "cells": [
  {
   "cell_type": "code",
   "execution_count": 1,
   "id": "efcdf2c0",
   "metadata": {},
   "outputs": [],
   "source": [
    "import pytesseract\n",
    "from PIL import Image\n",
    "import re"
   ]
  },
  {
   "cell_type": "code",
   "execution_count": 2,
   "id": "e92f852c",
   "metadata": {
    "scrolled": false
   },
   "outputs": [],
   "source": [
    "image=Image.open('uctenky/lidl_app/uctenka_6.JPEG')\n",
    "text = pytesseract.image_to_string(image, lang='ces')\n",
    "#print(text)"
   ]
  },
  {
   "cell_type": "code",
   "execution_count": 3,
   "id": "c6ecdf47",
   "metadata": {},
   "outputs": [
    {
     "name": "stdout",
     "output_type": "stream",
     "text": [
      "Elektronický opis\n",
      "\n",
      "o\n",
      "LÝ9DI Jednička v čerstvosti\n",
      "\n",
      "Provozovna:\n",
      "Praha, Na Slupi\n",
      "Kč\n",
      "\n",
      "Ice Tea broskev 18,90 B\n",
      "Popcorn slaný 29,90 B\n",
      "Vařená šunka 34,90 B\n",
      "Mediterraner 71,86 B\n",
      "E. 8,144 kg. x 499,00 Kč/kg\n",
      "Kabanosky uherák. 44,90 B\n",
      "Grůnes Pesto 77,35 B\n",
      "E 0,155 kg. x 499,08 Kč/kg\n",
      "Hummus s chilli 29,90 B\n",
      "Sušenky s krémem 44,90 B\n",
      "Smetana kys. 16% 15,90 B\n",
      "Camembert 128g 29,90 B\n",
      "K PLATBĚ 398,41\n",
      "Karta 398,41\n",
      "Celková zaplacená částka 398,41\n",
      "\n",
      "01/11/23 14:20 Účtenka číslo 08912\n",
      "Terminál: (LI033285-53268332)\n",
      "PRODEJ 398.41 Kč\n",
      "k*kkž kkkk **** 8008 / 88 (L) VISA\n",
      "\n",
      "A0 00 00 00 03 10 10 Visa DEBIT\n",
      "Visa Contactless\n",
      "SEO ID: 001:144:078, Autoriz. kód 652107\n",
      "Mobile Pin | *NO REFUND+\n",
      "\n",
      "0332 009358/085/85 81.11.23 14:19:17\n",
      "E = Váha přenesená z čárového kódu EAN\n",
      "Záruční a další údaje - zadní strana\n",
      "\n",
      " \n",
      "\n",
      "Průmyslové zboží je možné vrátit na základě\n",
      "\n",
      "originální nebo této elektronické účtenky v\n",
      "\n",
      "původním (nezávadném) stavu a originálním\n",
      "obalu do 30 dní od data nákupu.\n",
      "\n",
      "Dárkovou kartu není možné vrátit, ani vyměnit.\n",
      "\n",
      "Lidl Česká republika v.o.s.\n",
      "Nárožní 1359/11, 158 00 Praha 5\n",
      "IČ: 26178541, DIČ: CZ26178541\n",
      "\n",
      "MS Praha, zn. A/42824\n",
      "\n",
      "Nákup proveden na provoz..\n",
      "Praha 2, Na Slupi\n",
      "\n",
      "Na Slupi 2103/2c\n",
      "\n",
      "120 00 Praha\n",
      "\n",
      "Informace o prodejně\n",
      "\f",
      "\n"
     ]
    }
   ],
   "source": [
    "print(text)"
   ]
  },
  {
   "cell_type": "code",
   "execution_count": 4,
   "id": "05859471",
   "metadata": {},
   "outputs": [],
   "source": [
    "pattern = \"^([a-zA-ZáčďéíňóřšťúýžÁČĎÉÍŇÓŘŠŤÚÝŽ \\\\.\\\\\\'][a-zA-ZáčďéěíňóřšťůúýžÁČĎÉĚÍŇÓŘŠŤŮÚÝŽ \\\\.\\\\\\']*) {0,3}.* B$\""
   ]
  },
  {
   "cell_type": "code",
   "execution_count": 5,
   "id": "c2db6a80",
   "metadata": {},
   "outputs": [
    {
     "name": "stdout",
     "output_type": "stream",
     "text": [
      "Ice Tea broskev \n",
      "Popcorn slaný \n",
      "Vařená šunka \n",
      "Mediterraner \n",
      "Kabanosky uherák. \n",
      "Grůnes Pesto \n",
      "Hummus s chilli \n",
      "Sušenky s krémem \n",
      "Smetana kys. \n",
      "Camembert \n"
     ]
    }
   ],
   "source": [
    "found_food = []\n",
    "for line in text.split('\\n'):\n",
    "    found_line = re.search(pattern,line)\n",
    "    if found_line is not None:\n",
    "        print(found_line.group(1))\n",
    "        found_food.append(found_line.group(1))\n",
    "        \n",
    "    "
   ]
  },
  {
   "cell_type": "code",
   "execution_count": 6,
   "id": "338cd507",
   "metadata": {},
   "outputs": [
    {
     "name": "stdout",
     "output_type": "stream",
     "text": [
      "['Ice Tea broskev ', 'Popcorn slaný ', 'Vařená šunka ', 'Mediterraner ', 'Kabanosky uherák. ', 'Grůnes Pesto ', 'Hummus s chilli ', 'Sušenky s krémem ', 'Smetana kys. ', 'Camembert ']\n"
     ]
    }
   ],
   "source": [
    "print(found_food)"
   ]
  },
  {
   "cell_type": "code",
   "execution_count": 7,
   "id": "b306a813",
   "metadata": {},
   "outputs": [],
   "source": [
    "filename = 'nakup.surky'\n",
    "with open(filename, 'w') as file:\n",
    "    for food_item in found_food:\n",
    "        file.write(food_item + '\\n')"
   ]
  },
  {
   "cell_type": "code",
   "execution_count": 8,
   "id": "1e3b6d46",
   "metadata": {},
   "outputs": [],
   "source": [
    "from thefuzz import fuzz\n",
    "from thefuzz import process"
   ]
  },
  {
   "cell_type": "code",
   "execution_count": 18,
   "id": "e69cf620",
   "metadata": {},
   "outputs": [
    {
     "name": "stdout",
     "output_type": "stream",
     "text": [
      "56\n",
      "56\n",
      "44\n",
      "44\n",
      "100\n",
      "[('Vařená šunka ', 100), ('Sušenky s krémem ', 60), ('Kabanosky uherák. ', 57)]\n"
     ]
    }
   ],
   "source": [
    "print(fuzz.ratio('Šunka Moravia','Šunka'))\n",
    "print(fuzz.ratio('Šunka','Šunka Moravia'))\n",
    "print(fuzz.ratio('Šunka Moravia','šunka'))\n",
    "print(fuzz.ratio('šunka','Šunka Moravia'))\n",
    "print(fuzz.partial_token_set_ratio('šunka','Šunka Moravia'))\n",
    "print(process.extract('Šunka', found_food, limit=3, scorer=fuzz.partial_token_set_ratio))\n"
   ]
  },
  {
   "cell_type": "code",
   "execution_count": null,
   "id": "d8086782",
   "metadata": {},
   "outputs": [],
   "source": []
  }
 ],
 "metadata": {
  "kernelspec": {
   "display_name": "Python 3 (ipykernel)",
   "language": "python",
   "name": "python3"
  },
  "language_info": {
   "codemirror_mode": {
    "name": "ipython",
    "version": 3
   },
   "file_extension": ".py",
   "mimetype": "text/x-python",
   "name": "python",
   "nbconvert_exporter": "python",
   "pygments_lexer": "ipython3",
   "version": "3.9.16"
  }
 },
 "nbformat": 4,
 "nbformat_minor": 5
}
