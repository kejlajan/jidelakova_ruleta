{
 "cells": [
  {
   "cell_type": "code",
   "execution_count": 1,
   "id": "71436f7a",
   "metadata": {},
   "outputs": [],
   "source": [
    "import pytesseract\n",
    "from PIL import Image\n",
    "import re\n",
    "\n",
    "from thefuzz import fuzz\n",
    "from thefuzz import process"
   ]
  },
  {
   "cell_type": "code",
   "execution_count": 2,
   "id": "eb920b1c",
   "metadata": {},
   "outputs": [],
   "source": [
    "universum_surek = []\n",
    "with open('./universum.surky', 'r') as file:\n",
    "    for line in file.readlines():\n",
    "        universum_surek.append(line.strip('\\n'))"
   ]
  },
  {
   "cell_type": "code",
   "execution_count": 3,
   "id": "27e249e4",
   "metadata": {},
   "outputs": [],
   "source": [
    "def getListNakup(food_list, universum_surek):\n",
    "    propsane_surky_LIST   = []\n",
    "    nepropsane_surky_LIST = [] \n",
    "    for item in food_list:\n",
    "        translation = process.extract(item,universum_surek, limit=1, scorer=fuzz.token_set_ratio)[0]\n",
    "        #print(translation)\n",
    "        if translation[1]>90:\n",
    "            propsane_surky_LIST.append(translation[0])\n",
    "        else:\n",
    "            nepropsane_surky_LIST.append(item.strip(' '))\n",
    "        \n",
    "    return propsane_surky_LIST, nepropsane_surky_LIST"
   ]
  },
  {
   "cell_type": "code",
   "execution_count": 4,
   "id": "a54d3047",
   "metadata": {},
   "outputs": [],
   "source": [
    "image=Image.open('uctenky/lidl_app/uctenka_1.JPEG')\n",
    "text = pytesseract.image_to_string(image, lang='ces')"
   ]
  },
  {
   "cell_type": "code",
   "execution_count": 5,
   "id": "a78db1c2",
   "metadata": {
    "scrolled": true
   },
   "outputs": [
    {
     "name": "stdout",
     "output_type": "stream",
     "text": [
      "o\n",
      "L9DL Jednička v čerstvosti\n",
      "\n",
      "Provozovna:\n",
      "Praha, Vršovická\n",
      "Kč\n",
      "Fidorka mléč+kokos 51,60 B\n",
      "4 ks x 12,90 Kč/ks\n",
      "Akční sleva -20,00\n",
      "Lidl Plus sleva -8,00\n",
      "Cena po slevě 23,60\n",
      "Kokosové kostky 79,80 B\n",
      "2 ks x 39,90. Kč/ks\n",
      "Lidl Plus sleva -19,96\n",
      "Cena po slevě 59,84\n",
      "Řeznická slanina 32,90 B\n",
      "Lidl Plus sleva -4,94\n",
      "Cena po slevě 27,96\n",
      "Hořká čokoláda 21,90 B\n",
      "Ml. čokoláda 100g 15,90 B\n",
      "Relax Man.Jab.Pom 22,90 B\n",
      "Bezlak.mléko 3,5% 29,90 B\n",
      "Popcorn slaný 29,90 B\n",
      "Felic.Ouattro Form 89,80 B\n",
      "2 ks x 44,90. Kč/ks\n",
      "Selské sádlo 258 g 24,90 B\n",
      "Výběrová šunka188g 49,80 B\n",
      "2 ks x 24,90. Kč/ks\n",
      "Šlehačka 33% 250ml 32,90 B\n",
      "Hovězí mleté maso 109,90 B\n",
      "Vepř .pečeně, 500g 119,90 B\n",
      "Špagety Semolina 32,90 B\n",
      "Sweetie 38,22 B\n",
      "N. 0,638 kg. x 59,90. Kč/kg\n",
      "GranDioso doub.čok 33,00 B\n",
      "2 ks x 16,50. Kč/ks\n",
      "Gouda bloček 49,90 B\n",
      "Pap. taška střední 8,980 C\n",
      "K PLATBĚ 822,02\n",
      "Karta 822,02\n",
      "Celková zaplacená částka 822,02\n",
      "\n",
      "29/11/23 17125 Účtenka číslo 00978\n",
      "Terminál: (LI012485-53268124)\n",
      "PRODEJ 822.02 Kč\n",
      "*kká *kák kk*š 2963 / 00 (L) VISA\n",
      "\n",
      "A0 00 00 00 03 10 10 Visa DEBIT\n",
      "Visa Contactless\n",
      "SEO ID: 001:008:078, Autoriz. kód 382323\n",
      "Mobile Pin | *NO REFUND*\n",
      "\n",
      "Celková sleva 52,90\n",
      "B 15% DPH z 813,12 106,06\n",
      "C 21% DPH z 8,90 1,54\n",
      "\n",
      "I S Lidl Plus jste ušetřili\n",
      "I 32,90 Kč I\n",
      "\n",
      " \n",
      "\n",
      "0124 | 001010/085/85 29.11.23 17:22:11\n",
      "N = Netto váha\n",
      "Záruční a další údaje - zadní strana\n",
      "\n",
      "Průmyslové zboží je možné vrátit na základě\n",
      "originální nebo této elektronické účtenky v\n",
      "původním (nezávadném) stavu a originálním\n",
      "obalu do 30 dní od data nákupu.\n",
      "\n",
      "Dárkovou kartu není možné vrátit, ani vyměnit.\n",
      "\n",
      "Lidl Česká republika v.o.s.\n",
      "Nárožní 1359/11, 158 00 Praha 5\n",
      "IČ: 26178541, DIČ: CZ26178541\n",
      "\n",
      "MS Praha, zn. A/42824\n",
      "\n",
      "Nákup proveden na provoz..\n",
      "\n",
      "Praha 10, Vršovická\n",
      "Vršovická 1525/1a\n",
      "120 00 Praha 10\n",
      "\n",
      "Informace o prodejně\n",
      "\n",
      "Uplatněné kupóny:\n",
      "\n",
      "v +15 % sleva - Řeznická slanina, 100 g\n",
      "Začátek platnosti:27/11/2023\n",
      "Konec platnosti: 03/12/2023 nebo do\n",
      "vyprodání zásob.\n",
      "\n",
      "V případě, že v prodejnách Lidl v\n",
      "České republice bude na zboží\n",
      "uplatněna sleva na zboží s končící\n",
      "dobou minimální trvanlivosti (výrobky\n",
      "polepené oranžovou cenovkou) či jiná\n",
      "sleva na zboží v rámci samostatné\n",
      "kampaně mimo Lidl Plus, sleva na\n",
      "zboží v rámci služby Lidl Plus bude\n",
      "vypočtena vždy z ceny zboží po\n",
      "odečtení dříve uvedených slev.\n",
      "\n",
      " \n",
      "\n",
      "Příklad prioritizace slev:\n",
      "+ © Sleva 25 % na prodejně (oranžová\n",
      "nálepka) 90 Kč - 22,50 = 67,50\n",
      "Kč\n",
      "« Lidl Plus sleva -10 %, tj. 67,50 Kč\n",
      "- 6,70 Kč = konečná cena 60,80\n",
      "Kč\n",
      "\n",
      "v/. -54% Jen za 5,90 Kč - Fidorka, 30 g\n",
      "Začátek platnosti:27/11/2023\n",
      "Konec platnosti: 03/12/2023 nebo do\n",
      "vyprodání zásob.\n",
      "Územní platnost: celá ČR\n",
      "\n",
      "V případě, že v prodejnách Lidl v\n",
      "České republice bude na zboží\n",
      "uplatněna sleva pro držitele Naší\n",
      "stravenky, sleva na zboží s končící\n",
      "dobou minimální trvanlivosti či jiná\n",
      "sleva na zboží, sleva na zboží v rámci\n",
      "služby Lidl Plus bude vypočítána vždy\n",
      "z ceny zboží po odečtení dříve\n",
      "uvedených slev.\n",
      "\n",
      "V případě uplatnění Vašich kupónů\n",
      "dostupných v sekci „Kupóny\" se sleva\n",
      "počítá z ceny po odečtení dříve\n",
      "uvedených slev.\n",
      "\n",
      "Prioritizace slev\n",
      "\n",
      "« Naše stravenka - 10 % výrobek za 100\n",
      "Kč = 90 Kč\n",
      "\n",
      "* Sleva 25 % na prodejně (oranžová\n",
      "nálepka) 90 Kč - 22,50 = 67,50 Kč\n",
      "\n",
      "+ Lidl Plus sleva -10 %, tj. 67,50 Kč —\n",
      "6,70 Kč = konečná cena 60,80 Kč\n",
      "\n",
      "v -25% Při nákupu nad 300 Kč - <5\n",
      "Všechny výrobky značky FAVORINA\n",
      "Začátek platnosti:29/11/2023\n",
      "Konec platnosti: 29/11/2023 nebo do\n",
      "vyprodání zásob.\n",
      "\n",
      "V případě, že v prodejnách Lidl v\n",
      "České republice bude na zboží\n",
      "uplatněna sleva na zboží s končící\n",
      "dobou minimální trvanlivosti (výrobky\n",
      "polepené oranžovou cenovkou) či\n",
      "sleva na zboží v rámci samostatné\n",
      "kampaně mimo Lidl Plus, sleva na\n",
      "zboží v rámci služby Lidl Plus bude\n",
      "vypočtena vždy z ceny zboží po\n",
      "odečtení dříve uvedených slev.\n",
      "\n",
      " \n",
      "\n",
      "Příklad prioritizace slev:\n",
      "+ | Sleva 25 % na prodejně (oranžová\n",
      "nálepka) 90 Kč - 22,50 = 67,50\n",
      "Kč\n",
      "+ © Lidl Plus sleva -10 %, tj. 67,50 Kč\n",
      "- 6,70 Kč = konečná cena 60,80\n",
      "Kč\n",
      "\f",
      "\n"
     ]
    }
   ],
   "source": [
    "print(text)"
   ]
  },
  {
   "cell_type": "code",
   "execution_count": 6,
   "id": "3ade9b3a",
   "metadata": {},
   "outputs": [],
   "source": [
    "pattern = \"^([a-zA-ZáčďéíňóřšťúýžÁČĎÉÍŇÓŘŠŤÚÝŽ \\\\.\\\\\\'][a-zA-ZáčďéěíňóřšťůúýžÁČĎÉĚÍŇÓŘŠŤŮÚÝŽ \\\\.\\\\\\']*) {0,3}.* B$\""
   ]
  },
  {
   "cell_type": "code",
   "execution_count": 7,
   "id": "821d8556",
   "metadata": {},
   "outputs": [
    {
     "name": "stdout",
     "output_type": "stream",
     "text": [
      "Fidorka mléč\n",
      "Kokosové kostky \n",
      "Řeznická slanina \n",
      "Hořká čokoláda \n",
      "Ml. čokoláda \n",
      "Relax Man.Jab.Pom \n",
      "Bezlak.mléko \n",
      "Popcorn slaný \n",
      "Felic.Ouattro Form \n",
      "Selské sádlo \n",
      "Výběrová šunka\n",
      "Šlehačka \n",
      "Hovězí mleté maso \n",
      "Vepř .pečeně\n",
      "Špagety Semolina \n",
      "Sweetie \n",
      "GranDioso doub.čok \n",
      "Gouda bloček \n"
     ]
    }
   ],
   "source": [
    "found_food = []\n",
    "for line in text.split('\\n'):\n",
    "    found_line = re.search(pattern,line)\n",
    "    if found_line is not None:\n",
    "        print(found_line.group(1))\n",
    "        found_food.append(found_line.group(1))"
   ]
  },
  {
   "cell_type": "code",
   "execution_count": 8,
   "id": "03f93d0a",
   "metadata": {},
   "outputs": [],
   "source": [
    "translated_surky_LIST, NOT_translated_surky_LIST = getListNakup(found_food, universum_surek)"
   ]
  },
  {
   "cell_type": "code",
   "execution_count": 9,
   "id": "c4c31810",
   "metadata": {},
   "outputs": [
    {
     "name": "stdout",
     "output_type": "stream",
     "text": [
      "['slanina', 'šunka', 'maso Hovězí mleté', 'špagety', 'gouda']\n"
     ]
    }
   ],
   "source": [
    "print(translated_surky_LIST)"
   ]
  },
  {
   "cell_type": "code",
   "execution_count": 10,
   "id": "3465ffb4",
   "metadata": {},
   "outputs": [],
   "source": [
    "path_auto_file = r'./add_automatically.surky'\n",
    "path_manual_file = r'./add_manually.surky'"
   ]
  },
  {
   "cell_type": "code",
   "execution_count": 11,
   "id": "b53cce64",
   "metadata": {},
   "outputs": [],
   "source": [
    "with open(path_auto_file, 'w') as file:\n",
    "    for item in translated_surky_LIST:\n",
    "        file.write(item+'\\n')"
   ]
  },
  {
   "cell_type": "code",
   "execution_count": 12,
   "id": "483963bb",
   "metadata": {},
   "outputs": [
    {
     "name": "stdout",
     "output_type": "stream",
     "text": [
      "['Fidorka mléč', 'Kokosové kostky', 'Hořká čokoláda', 'Ml. čokoláda', 'Relax Man.Jab.Pom', 'Bezlak.mléko', 'Popcorn slaný', 'Felic.Ouattro Form', 'Selské sádlo', 'Šlehačka', 'Vepř .pečeně', 'Sweetie', 'GranDioso doub.čok']\n"
     ]
    }
   ],
   "source": [
    "print(NOT_translated_surky_LIST)"
   ]
  },
  {
   "cell_type": "code",
   "execution_count": 13,
   "id": "0ccec8b2",
   "metadata": {},
   "outputs": [],
   "source": [
    "with open(path_manual_file, 'w') as file:\n",
    "    for item in NOT_translated_surky_LIST:\n",
    "        file.write(item+'\\n')"
   ]
  },
  {
   "cell_type": "code",
   "execution_count": null,
   "id": "9d69e15c",
   "metadata": {},
   "outputs": [],
   "source": []
  }
 ],
 "metadata": {
  "kernelspec": {
   "display_name": "Python 3 (ipykernel)",
   "language": "python",
   "name": "python3"
  },
  "language_info": {
   "codemirror_mode": {
    "name": "ipython",
    "version": 3
   },
   "file_extension": ".py",
   "mimetype": "text/x-python",
   "name": "python",
   "nbconvert_exporter": "python",
   "pygments_lexer": "ipython3",
   "version": "3.10.12"
  }
 },
 "nbformat": 4,
 "nbformat_minor": 5
}
