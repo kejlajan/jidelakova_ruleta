{
 "cells": [
  {
   "cell_type": "code",
   "execution_count": 1,
   "id": "efcdf2c0",
   "metadata": {},
   "outputs": [],
   "source": [
    "import pytesseract\n",
    "from PIL import Image\n",
    "import re\n",
    "\n",
    "from thefuzz import fuzz\n",
    "from thefuzz import process"
   ]
  },
  {
   "cell_type": "code",
   "execution_count": 2,
   "id": "f92af100",
   "metadata": {},
   "outputs": [],
   "source": [
    "universum_surek = []\n",
    "with open('./universum.surky', 'r') as file:\n",
    "    for line in file.readlines():\n",
    "        universum_surek.append(line.strip('\\n'))"
   ]
  },
  {
   "cell_type": "code",
   "execution_count": 3,
   "id": "ff80af7a",
   "metadata": {},
   "outputs": [],
   "source": [
    "def findTwoBest(str1, list_universa):\n",
    "    output_list_of_tuples = process.extract(item,list_universa, limit=2, scorer=fuzz.token_set_ratio)\n",
    "    return output_list_of_tuples[0], output_list_of_tuples[1]\n",
    "\n",
    "\n",
    "def CheckDuplicitiesInUniversum(list_universa):\n",
    "    for item in list_universa:\n",
    "        print(f'{item} -- {process.extract(item,list_universa, limit=2, scorer=fuzz.partial_token_set_ratio)} -- {process.extract(item,list_universa, limit=2, scorer=fuzz.token_set_ratio)}')\n",
    "            \n",
    "def translateFood(item, universum_surek):\n",
    "    translation = process.extract(item,universum_surek, limit=1, scorer=fuzz.token_set_ratio)[0]\n",
    "    #print(translation)\n",
    "    if translation[1]>90:\n",
    "        #print(\"jsem si jist\")\n",
    "        return translation[0]\n",
    "    else:\n",
    "        #print(\"nejsem si jist\")\n",
    "        pass\n",
    "    \n",
    "def getListNakup(food_list, universum_surek):\n",
    "    propsane_surky_LIST = []\n",
    "    for item in food_list:\n",
    "        propsane_surky_LIST.append(translateFood(item,universum_surek))\n",
    "    return propsane_surky_LIST\n",
    "\n",
    "\n",
    "def getListNakup(food_list, universum_surek):\n",
    "    propsane_surky_LIST   = []\n",
    "    nepropsane_surky_LIST = [] \n",
    "    for item in food_list:\n",
    "        translation = process.extract(item,universum_surek, limit=1, scorer=fuzz.token_set_ratio)[0]\n",
    "        #print(translation)\n",
    "        if translation[1]>90:\n",
    "            propsane_surky_LIST.append(translation[0])\n",
    "        else:\n",
    "            nepropsane_surky_LIST.append(item)\n",
    "        \n",
    "    return propsane_surky_LIST, nepropsane_surky_LIST\n",
    "    \n",
    "\n",
    "    "
   ]
  },
  {
   "cell_type": "code",
   "execution_count": 4,
   "id": "3cdcfcbc",
   "metadata": {},
   "outputs": [],
   "source": [
    "#print(universum_surek)"
   ]
  },
  {
   "cell_type": "code",
   "execution_count": 5,
   "id": "e92f852c",
   "metadata": {
    "scrolled": false
   },
   "outputs": [],
   "source": [
    "image=Image.open('uctenky/lidl_app/uctenka_7.JPEG')\n",
    "text = pytesseract.image_to_string(image, lang='ces')\n",
    "#print(text)"
   ]
  },
  {
   "cell_type": "code",
   "execution_count": 6,
   "id": "c6ecdf47",
   "metadata": {},
   "outputs": [
    {
     "name": "stdout",
     "output_type": "stream",
     "text": [
      "Elektronický opis\n",
      "\n",
      "o\n",
      "LÝ9DI Jednička v čerstvosti\n",
      "\n",
      "Provozovna:\n",
      "Praha, Vojtíškova\n",
      "Kč\n",
      "377705 Klávesnice 199,00 C\n",
      "Záruka: 3 roky\n",
      "Lidl Plus sleva -39,80\n",
      "Cena po slevě 159,28\n",
      "385505Vak na odpad 169,08 C\n",
      "Lidl Plus sleva -33,80\n",
      "Cena po slevě 135,20\n",
      "Kuř.prsní řízky 153,96 B\n",
      "M 8,911 kg. x 169,00 Kč/kg\n",
      "Lidl Plus sleva -30,79\n",
      "Cena po slevě 1235.17\n",
      "Plátkový sýr 500g 109,00 B\n",
      "Lidl Plus sleva -21,80\n",
      "Cena po slevě 87,20\n",
      "Hellmann's Tatar. 99,90 B\n",
      "Lidl Plus sleva -1998\n",
      "Cena po slevě 79,92\n",
      "Háagen Dazs Carame 99,90 B\n",
      "Lidl Plus sleva 19,98\n",
      "Cena po slevě 79,92\n",
      "Hovězí mleté 89,90 B\n",
      "Lidl Plus sleva -17,98\n",
      "Cena po slevě 71,9\n",
      "Štika ob.-filet *E 101,68 B\n",
      "M 0,378 kg. x 269,00 Kč/kg\n",
      "SLEVA 25% -25,43\n",
      "Lidl Plus sleva -15,25\n",
      "Cena po slevě 61,00\n",
      "Pol.směs s k. *E 93,96 B\n",
      "M 8,556 kg. x 169,08 Kč/kg\n",
      "SLEVA 25% -23,50\n",
      "Lidl Plus sleva 14,09\n",
      "Cena po slevě 56,37\n",
      "Česká šunka od kos 69,90 B\n",
      "Lidl Plus sleva -13,98\n",
      "Cena po slevě 55,92\n",
      "Avokádo 780g 59,90 B\n",
      "Lidl Plus sleva -11,98\n",
      "Cena po slevě 47,92\n",
      "Česnek suchý 39,90 B\n",
      "Lidl Plus sleva -7,98\n",
      "Cena po slevě 31,92\n",
      "Mozzarella 39,80 B\n",
      "2 ks x 19,90. Kč/ks\n",
      "Lidl Plus sleva -7,96\n",
      "Cena po slevě 31,84\n",
      "Dušená šunka 200g 36,90 B\n",
      "Lidl Plus sleva 7,38\n",
      "Cena po slevě 29,52\n",
      "Toast. chléb másl. 29,90 B\n",
      "Lidl Plus sleva -5,98\n",
      "Cena po slevě 23,92\n",
      "Okurky polní 21,80 B\n",
      "N. 8,364 kg. x 59,98. Kč/kg\n",
      "Lidl Plus sleva -4,36\n",
      "Cena po slevě 17,44\n",
      "Rohlík 43g 15,20 B\n",
      "8 ks x 1,90 Kč/ks\n",
      "Lidl Plus sleva -3,04\n",
      "Cena po slevě 12,16\n",
      "K PLATBĚ 1104,54\n",
      "Karta 1 104,54\n",
      "Celková zaplacená částka 1 104,54\n",
      "\n",
      "Ohodnoťte Váš nákup\n",
      "a vyhrajte nový iPhone 12\n",
      "lidl.cz/hodnoceni\n",
      "\n",
      "16/07/22 19:55 Účtenka číslo 01073\n",
      "Terminál: (LIDL3421-53268342)\n",
      "PRODEJ 1104.54 CZK\n",
      "kkká kkák x 7472 / 88 (L) VISA\n",
      "AO 00 00 00 03 10 10. VISA Debit/Credit\n",
      "SEO ID: 801:659:474, Autoriz. kód 651331\n",
      "Mobile Pin | *NO REFUND+\n",
      "\n",
      "Celková sleva 325,06\n",
      "B 15% DPH z 810,14 105,67\n",
      "C 21% DPH z 294,40 51,09\n",
      "\n",
      "I S Lidl Plus jste ušetřili\n",
      "I 276,13 Kč\n",
      "\n",
      " \n",
      "\n",
      "0342 | 072985/030/01 16.07.22 19:55:12\n",
      "E = Váha přenesená z čárového kódu EAN\n",
      "\n",
      "N = Netto váha\n",
      "\n",
      "377705 Klávesnice\n",
      "\n",
      "Recyklační příspěvek 1,26 Kč/1 kus\n",
      "\n",
      "Číslo účtenky: 0342-160722-01-072985\n",
      "\n",
      "Záruční a další údaje - zadní strana\n",
      "\n",
      "Průmyslové zboží je možné vrátit na základě\n",
      "originální nebo této elektronické účtenky v\n",
      "původním (nezávadném) stavu a originálním\n",
      "obalu do 30 dní od data nákupu.\n",
      "\n",
      "Dárkovou kartu není možné vrátit, ani vyměnit.\n",
      "\n",
      "Lidl Česká republika v.o.s.\n",
      "Nárožní 1359/11, 158 00 Praha 5\n",
      "IČ: 26178541, DIČ: CZ26178541\n",
      "\n",
      "MS Praha, zn. A/42824\n",
      "\n",
      "Nákup proveden na provoz..\n",
      "\n",
      "Praha 11, Vojtíškova\n",
      "Vojtíškova 1783\n",
      "142 00 Praha 11\n",
      "\n",
      "Informace o prodejně\n",
      "\n",
      "Uplatněné kupóny:\n",
      "\n",
      "v 20 %sleva - / Až 400 Kč na Tvůj\n",
      "nákup v ul. Vojtíškova\n",
      "Začátek platnosti:11/07/2022\n",
      "Konec platnosti: 18/07/2022\n",
      "Územní platnost: Lidl Praha 11, ul.\n",
      "Vojtíškova\n",
      "Akce se vztahuje nejvýše na ks\n",
      "\n",
      "V případě, že v prodejnách Lidl v\n",
      "České republice bude na zboží\n",
      "uplatněna sleva pro držitele Naší\n",
      "stravenky, sleva na zboží s končící\n",
      "dobou minimální trvanlivosti či jiná\n",
      "sleva na zboží, sleva na zboží v rámci\n",
      "služby Lidl Plus bude vypočítána vždy\n",
      "z ceny zboží po odečtení dříve\n",
      "uvedených slev.\n",
      "\n",
      "V případě uplatnění Vašich kupónů\n",
      "dostupných v sekci „Kupóny\" se sleva\n",
      "počítá z ceny po odečtení dříve\n",
      "uvedených slev.\n",
      "\n",
      "Prioritizace slev\n",
      "\n",
      "« Naše stravenka - 10 % výrobek za 100\n",
      "Kč = 90 Kč\n",
      "\n",
      "« Sleva 25 % na prodejně (oranžová\n",
      "nálepka) 90 Kč - 22,50 = 67,50 Kč\n",
      "\n",
      "+ Lidl Plus sleva -10 % , tj. 67,50 Kč —\n",
      "6,70 Kč = konečná cena 60,80 Kč\n",
      "\f",
      "\n"
     ]
    }
   ],
   "source": [
    "print(text)"
   ]
  },
  {
   "cell_type": "code",
   "execution_count": 7,
   "id": "05859471",
   "metadata": {},
   "outputs": [],
   "source": [
    "pattern = \"^([a-zA-ZáčďéíňóřšťúýžÁČĎÉÍŇÓŘŠŤÚÝŽ \\\\.\\\\\\'][a-zA-ZáčďéěíňóřšťůúýžÁČĎÉĚÍŇÓŘŠŤŮÚÝŽ \\\\.\\\\\\']*) {0,3}.* B$\""
   ]
  },
  {
   "cell_type": "code",
   "execution_count": 8,
   "id": "c2db6a80",
   "metadata": {},
   "outputs": [
    {
     "name": "stdout",
     "output_type": "stream",
     "text": [
      "Kuř.prsní řízky \n",
      "Plátkový sýr \n",
      "Hellmann's Tatar. \n",
      "Háagen Dazs Carame \n",
      "Hovězí mleté \n",
      "Štika ob.\n",
      "Pol.směs s k. \n",
      "Česká šunka od kos \n",
      "Avokádo \n",
      "Česnek suchý \n",
      "Mozzarella \n",
      "Dušená šunka \n",
      "Toast. chléb másl. \n",
      "Okurky polní \n",
      "Rohlík \n"
     ]
    }
   ],
   "source": [
    "found_food = []\n",
    "for line in text.split('\\n'):\n",
    "    found_line = re.search(pattern,line)\n",
    "    if found_line is not None:\n",
    "        print(found_line.group(1))\n",
    "        found_food.append(found_line.group(1))\n",
    "        \n",
    "    "
   ]
  },
  {
   "cell_type": "code",
   "execution_count": 9,
   "id": "338cd507",
   "metadata": {},
   "outputs": [
    {
     "name": "stdout",
     "output_type": "stream",
     "text": [
      "['Kuř.prsní řízky ', 'Plátkový sýr ', \"Hellmann's Tatar. \", 'Háagen Dazs Carame ', 'Hovězí mleté ', 'Štika ob.', 'Pol.směs s k. ', 'Česká šunka od kos ', 'Avokádo ', 'Česnek suchý ', 'Mozzarella ', 'Dušená šunka ', 'Toast. chléb másl. ', 'Okurky polní ', 'Rohlík ']\n"
     ]
    }
   ],
   "source": [
    "print(found_food)"
   ]
  },
  {
   "cell_type": "code",
   "execution_count": 10,
   "id": "b306a813",
   "metadata": {},
   "outputs": [],
   "source": [
    "filename = 'nakup.surky'\n",
    "with open(filename, 'w') as file:\n",
    "    for food_item in found_food:\n",
    "        file.write(food_item + '\\n')"
   ]
  },
  {
   "cell_type": "code",
   "execution_count": 11,
   "id": "e69cf620",
   "metadata": {},
   "outputs": [
    {
     "name": "stdout",
     "output_type": "stream",
     "text": [
      "56\n",
      "56\n",
      "44\n",
      "44\n",
      "100\n",
      "[('šunka', 100), ('kapr', 67), ('okurka', 67)]\n"
     ]
    }
   ],
   "source": [
    "print(fuzz.ratio('Šunka Moravia','Šunka'))\n",
    "print(fuzz.ratio('Šunka','Šunka Moravia'))\n",
    "print(fuzz.ratio('Šunka Moravia','šunka'))\n",
    "print(fuzz.ratio('šunka','Šunka Moravia'))\n",
    "print(fuzz.partial_token_set_ratio('šunka','Šunka Moravia'))\n",
    "print(process.extract('Šunka', universum_surek, limit=3, scorer=fuzz.partial_token_set_ratio))"
   ]
  },
  {
   "cell_type": "code",
   "execution_count": 12,
   "id": "d8086782",
   "metadata": {},
   "outputs": [
    {
     "name": "stdout",
     "output_type": "stream",
     "text": [
      "šunka -- [('šunka', 100), ('kapr', 67)] -- [('šunka', 100), ('Štika', 60)]\n",
      "salám -- [('salám', 100), ('salát ledový', 80)] -- [('salám', 100), ('salát ledový', 47)]\n",
      "eidam -- [('eidam', 100), ('cheddar', 60)] -- [('eidam', 100), ('cheddar', 50)]\n",
      "gouda -- [('gouda', 100), ('eidam', 57)] -- [('gouda', 100), ('okurka', 55)]\n",
      "cheddar -- [('cheddar', 100), ('chřest', 67)] -- [('cheddar', 100), ('eidam', 50)]\n",
      "Hummus -- [('Hummus', 100), ('kukuřice', 40)] -- [('Hummus', 100), ('chřest', 33)]\n",
      "Smetana kys -- [('Smetana kys', 100), ('ananas', 67)] -- [('Smetana kys', 100), ('maso kuřecí prsní ', 36)]\n",
      "camembert -- [('camembert', 100), ('celer', 60)] -- [('camembert', 100), ('celer', 57)]\n",
      "maso kuřecí prsní  -- [('maso kuřecí prsní ', 100), ('maso Hovězí mleté', 100)] -- [('maso kuřecí prsní ', 100), ('maso hovězí svíčková', 49)]\n",
      "maso Hovězí mleté -- [('maso kuřecí prsní ', 100), ('maso Hovězí mleté', 100)] -- [('maso Hovězí mleté', 100), ('maso hovězí svíčková', 79)]\n",
      "Štika -- [('Štika', 100), ('kapr', 67)] -- [('Štika', 100), ('šunka', 60)]\n",
      "Avokádo -- [('Avokádo', 100), ('Okurky polní', 44)] -- [('Avokádo', 100), ('salám', 33)]\n",
      "Česnek -- [('Česnek', 100), ('penne', 60)] -- [('Česnek', 100), ('penne', 55)]\n",
      "Mozzarella -- [('Mozzarella', 100), ('farfalle', 57)] -- [('Mozzarella', 100), ('tortilly', 44)]\n",
      "Okurky polní -- [('Okurky polní', 100), ('okurka', 91)] -- [('Okurky polní', 100), ('okurka', 56)]\n",
      "Rohlík -- [('Rohlík', 100), ('Okurky polní', 60)] -- [('Rohlík', 100), ('Okurky polní', 44)]\n",
      "brambory -- [('brambory', 100), ('párky', 57)] -- [('brambory', 100), ('camembert', 47)]\n",
      "cibule -- [('cibule', 100), ('celer', 57)] -- [('cibule', 100), ('celer', 55)]\n",
      "rajčata -- [('rajčata', 100), ('Štika', 57)] -- [('rajčata', 100), ('ananas', 46)]\n",
      "salát ledový -- [('salát ledový', 100), ('salám', 80)] -- [('salát ledový', 100), ('salám', 47)]\n",
      "fazole -- [('fazole', 100), ('farfalle', 73)] -- [('fazole', 100), ('farfalle', 57)]\n",
      "špenát -- [('špenát', 100), ('špagety', 67)] -- [('špenát', 100), ('špagety', 62)]\n",
      "kukuřice -- [('kukuřice', 100), ('maso kuřecí prsní ', 67)] -- [('kukuřice', 100), ('okurka', 43)]\n",
      "tortilly -- [('tortilly', 100), ('brambory', 55)] -- [('tortilly', 100), ('Mozzarella', 44)]\n",
      "čočka -- [('čočka', 100), ('kapr', 67)] -- [('čočka', 100), ('okurka', 55)]\n",
      "rýže -- [('rýže', 100), ('Mozzarella', 50)] -- [('rýže', 100), ('mrkev', 44)]\n",
      "špagety -- [('špagety', 100), ('špenát', 67)] -- [('špagety', 100), ('špenát', 62)]\n",
      "tagliatelle -- [('tagliatelle', 100), ('celer', 67)] -- [('tagliatelle', 100), ('farfalle', 53)]\n",
      "penne -- [('penne', 100), ('špenát', 67)] -- [('penne', 100), ('Česnek', 55)]\n",
      "farfalle -- [('farfalle', 100), ('fazole', 73)] -- [('farfalle', 100), ('fazole', 57)]\n",
      "batáty -- [('batáty', 100), ('salát ledový', 60)] -- [('batáty', 100), ('špagety', 46)]\n",
      "ananas -- [('ananas', 100), ('Smetana kys', 67)] -- [('ananas', 100), ('rajčata', 46)]\n",
      "citrony -- [('citrony', 100), ('cibule', 50)] -- [('citrony', 100), ('brambory', 40)]\n",
      "párky -- [('párky', 100), ('Okurky polní', 60)] -- [('párky', 100), ('kapr', 44)]\n",
      "maso hovězí svíčková -- [('maso kuřecí prsní ', 100), ('maso Hovězí mleté', 100)] -- [('maso hovězí svíčková', 100), ('maso Hovězí mleté', 79)]\n",
      "chřest -- [('chřest', 100), ('cheddar', 67)] -- [('chřest', 100), ('cheddar', 46)]\n",
      "losos -- [('losos', 100), ('maso hovězí svíčková', 60)] -- [('losos', 100), ('salát ledový', 35)]\n",
      "pstruh -- [('pstruh', 100), ('chřest', 50)] -- [('pstruh', 100), ('kapr', 40)]\n",
      "kapr -- [('kapr', 100), ('šunka', 67)] -- [('kapr', 100), ('šunka', 44)]\n",
      "filé -- [('filé', 100), ('chléb', 57)] -- [('filé', 100), ('chléb', 44)]\n",
      "mrkev -- [('mrkev', 100), ('rýže', 50)] -- [('mrkev', 100), ('rýže', 44)]\n",
      "celer -- [('celer', 100), ('tagliatelle', 67)] -- [('celer', 100), ('camembert', 57)]\n",
      "hrášek -- [('hrášek', 100), ('šunka', 50)] -- [('hrášek', 100), ('rýže', 40)]\n",
      "chléb -- [('chléb', 100), ('cheddar', 57)] -- [('chléb', 100), ('filé', 44)]\n",
      "okurka -- [('okurka', 100), ('Okurky polní', 91)] -- [('okurka', 100), ('Okurky polní', 56)]\n"
     ]
    }
   ],
   "source": [
    "CheckDuplicitiesInUniversum(universum_surek)"
   ]
  },
  {
   "cell_type": "code",
   "execution_count": 13,
   "id": "e3a7ad6b",
   "metadata": {},
   "outputs": [],
   "source": [
    "for item in universum_surek:\n",
    "    tuple_of_two_best = findTwoBest(item, universum_surek)\n",
    "    if tuple_of_two_best[1][0] == item:\n",
    "        print(f\"{item} je tam dvakrat\")\n",
    "    elif tuple_of_two_best[1][1] > 90:\n",
    "        print(f\"{item} je tam dvakrat -- druhej match je: {tuple_of_two_best[1][0]}\")\n",
    "    else:\n",
    "        pass\n",
    "        #print(f\"{item} nemá match\")"
   ]
  },
  {
   "cell_type": "code",
   "execution_count": 14,
   "id": "3acb1622",
   "metadata": {},
   "outputs": [
    {
     "name": "stdout",
     "output_type": "stream",
     "text": [
      "Kuř.prsní řízky \n",
      "Plátkový sýr \n",
      "Hellmann's Tatar. \n",
      "Háagen Dazs Carame \n",
      "Hovězí mleté \n",
      "Štika ob.\n",
      "Pol.směs s k. \n",
      "Česká šunka od kos \n",
      "Avokádo \n",
      "Česnek suchý \n",
      "Mozzarella \n",
      "Dušená šunka \n",
      "Toast. chléb másl. \n",
      "Okurky polní \n",
      "Rohlík \n"
     ]
    }
   ],
   "source": [
    "for item in found_food:\n",
    "    print(item)"
   ]
  },
  {
   "cell_type": "code",
   "execution_count": 17,
   "id": "3115e0ab",
   "metadata": {},
   "outputs": [],
   "source": [
    "translated_surky_LIST, NOT_translated_surky_LIST = getListNakup(found_food, universum_surek)"
   ]
  },
  {
   "cell_type": "code",
   "execution_count": 18,
   "id": "f05bfc32",
   "metadata": {},
   "outputs": [
    {
     "name": "stdout",
     "output_type": "stream",
     "text": [
      "['maso Hovězí mleté', 'Štika', 'šunka', 'Avokádo', 'Česnek', 'Mozzarella', 'šunka', 'chléb', 'Okurky polní', 'Rohlík']\n"
     ]
    }
   ],
   "source": [
    "print(translated_surky_LIST)"
   ]
  },
  {
   "cell_type": "code",
   "execution_count": 19,
   "id": "6b7d4771",
   "metadata": {},
   "outputs": [
    {
     "name": "stdout",
     "output_type": "stream",
     "text": [
      "['Kuř.prsní řízky ', 'Plátkový sýr ', \"Hellmann's Tatar. \", 'Háagen Dazs Carame ', 'Pol.směs s k. ']\n"
     ]
    }
   ],
   "source": [
    "print(NOT_translated_surky_LIST)"
   ]
  },
  {
   "cell_type": "code",
   "execution_count": null,
   "id": "c93d2536",
   "metadata": {},
   "outputs": [],
   "source": []
  }
 ],
 "metadata": {
  "kernelspec": {
   "display_name": "Python 3 (ipykernel)",
   "language": "python",
   "name": "python3"
  },
  "language_info": {
   "codemirror_mode": {
    "name": "ipython",
    "version": 3
   },
   "file_extension": ".py",
   "mimetype": "text/x-python",
   "name": "python",
   "nbconvert_exporter": "python",
   "pygments_lexer": "ipython3",
   "version": "3.9.16"
  }
 },
 "nbformat": 4,
 "nbformat_minor": 5
}
