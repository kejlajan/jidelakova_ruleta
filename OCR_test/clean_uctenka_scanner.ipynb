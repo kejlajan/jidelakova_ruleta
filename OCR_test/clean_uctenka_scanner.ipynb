{
 "cells": [
  {
   "cell_type": "code",
   "execution_count": 1,
   "id": "71436f7a",
   "metadata": {},
   "outputs": [],
   "source": [
    "import pytesseract\n",
    "from PIL import Image\n",
    "import re\n",
    "\n",
    "from thefuzz import fuzz\n",
    "from thefuzz import process"
   ]
  },
  {
   "cell_type": "code",
   "execution_count": 2,
   "id": "eb920b1c",
   "metadata": {},
   "outputs": [],
   "source": [
    "universum_surek = []\n",
    "with open('./universum.surky', 'r') as file:\n",
    "    for line in file.readlines():\n",
    "        universum_surek.append(line.strip('\\n'))"
   ]
  },
  {
   "cell_type": "code",
   "execution_count": 3,
   "id": "27e249e4",
   "metadata": {},
   "outputs": [],
   "source": [
    "def getListNakup(food_list, universum_surek):\n",
    "    propsane_surky_LIST   = []\n",
    "    nepropsane_surky_LIST = [] \n",
    "    for item in food_list:\n",
    "        translation = process.extract(item,universum_surek, limit=1, scorer=fuzz.token_set_ratio)[0]\n",
    "        #print(translation)\n",
    "        if translation[1]>90:\n",
    "            propsane_surky_LIST.append(translation[0])\n",
    "        else:\n",
    "            nepropsane_surky_LIST.append(item.strip(' '))\n",
    "        \n",
    "    return propsane_surky_LIST, nepropsane_surky_LIST"
   ]
  },
  {
   "cell_type": "code",
   "execution_count": 4,
   "id": "a54d3047",
   "metadata": {},
   "outputs": [],
   "source": [
    "image=Image.open('uctenky/lidl_app/uctenka_7.JPEG')\n",
    "text = pytesseract.image_to_string(image, lang='ces')"
   ]
  },
  {
   "cell_type": "code",
   "execution_count": 5,
   "id": "a78db1c2",
   "metadata": {},
   "outputs": [
    {
     "name": "stdout",
     "output_type": "stream",
     "text": [
      "Elektronický opis\n",
      "\n",
      "o\n",
      "LÝ9DI Jednička v čerstvosti\n",
      "\n",
      "Provozovna:\n",
      "Praha, Vojtíškova\n",
      "Kč\n",
      "377705 Klávesnice 199,00 C\n",
      "Záruka: 3 roky\n",
      "Lidl Plus sleva -39,80\n",
      "Cena po slevě 159,28\n",
      "385505Vak na odpad 169,08 C\n",
      "Lidl Plus sleva -33,80\n",
      "Cena po slevě 135,20\n",
      "Kuř.prsní řízky 153,96 B\n",
      "M 8,911 kg. x 169,00 Kč/kg\n",
      "Lidl Plus sleva -30,79\n",
      "Cena po slevě 1235.17\n",
      "Plátkový sýr 500g 109,00 B\n",
      "Lidl Plus sleva -21,80\n",
      "Cena po slevě 87,20\n",
      "Hellmann's Tatar. 99,90 B\n",
      "Lidl Plus sleva -1998\n",
      "Cena po slevě 79,92\n",
      "Háagen Dazs Carame 99,90 B\n",
      "Lidl Plus sleva 19,98\n",
      "Cena po slevě 79,92\n",
      "Hovězí mleté 89,90 B\n",
      "Lidl Plus sleva -17,98\n",
      "Cena po slevě 71,9\n",
      "Štika ob.-filet *E 101,68 B\n",
      "M 0,378 kg. x 269,00 Kč/kg\n",
      "SLEVA 25% -25,43\n",
      "Lidl Plus sleva -15,25\n",
      "Cena po slevě 61,00\n",
      "Pol.směs s k. *E 93,96 B\n",
      "M 8,556 kg. x 169,08 Kč/kg\n",
      "SLEVA 25% -23,50\n",
      "Lidl Plus sleva 14,09\n",
      "Cena po slevě 56,37\n",
      "Česká šunka od kos 69,90 B\n",
      "Lidl Plus sleva -13,98\n",
      "Cena po slevě 55,92\n",
      "Avokádo 780g 59,90 B\n",
      "Lidl Plus sleva -11,98\n",
      "Cena po slevě 47,92\n",
      "Česnek suchý 39,90 B\n",
      "Lidl Plus sleva -7,98\n",
      "Cena po slevě 31,92\n",
      "Mozzarella 39,80 B\n",
      "2 ks x 19,90. Kč/ks\n",
      "Lidl Plus sleva -7,96\n",
      "Cena po slevě 31,84\n",
      "Dušená šunka 200g 36,90 B\n",
      "Lidl Plus sleva 7,38\n",
      "Cena po slevě 29,52\n",
      "Toast. chléb másl. 29,90 B\n",
      "Lidl Plus sleva -5,98\n",
      "Cena po slevě 23,92\n",
      "Okurky polní 21,80 B\n",
      "N. 8,364 kg. x 59,98. Kč/kg\n",
      "Lidl Plus sleva -4,36\n",
      "Cena po slevě 17,44\n",
      "Rohlík 43g 15,20 B\n",
      "8 ks x 1,90 Kč/ks\n",
      "Lidl Plus sleva -3,04\n",
      "Cena po slevě 12,16\n",
      "K PLATBĚ 1104,54\n",
      "Karta 1 104,54\n",
      "Celková zaplacená částka 1 104,54\n",
      "\n",
      "Ohodnoťte Váš nákup\n",
      "a vyhrajte nový iPhone 12\n",
      "lidl.cz/hodnoceni\n",
      "\n",
      "16/07/22 19:55 Účtenka číslo 01073\n",
      "Terminál: (LIDL3421-53268342)\n",
      "PRODEJ 1104.54 CZK\n",
      "kkká kkák x 7472 / 88 (L) VISA\n",
      "AO 00 00 00 03 10 10. VISA Debit/Credit\n",
      "SEO ID: 801:659:474, Autoriz. kód 651331\n",
      "Mobile Pin | *NO REFUND+\n",
      "\n",
      "Celková sleva 325,06\n",
      "B 15% DPH z 810,14 105,67\n",
      "C 21% DPH z 294,40 51,09\n",
      "\n",
      "I S Lidl Plus jste ušetřili\n",
      "I 276,13 Kč\n",
      "\n",
      " \n",
      "\n",
      "0342 | 072985/030/01 16.07.22 19:55:12\n",
      "E = Váha přenesená z čárového kódu EAN\n",
      "\n",
      "N = Netto váha\n",
      "\n",
      "377705 Klávesnice\n",
      "\n",
      "Recyklační příspěvek 1,26 Kč/1 kus\n",
      "\n",
      "Číslo účtenky: 0342-160722-01-072985\n",
      "\n",
      "Záruční a další údaje - zadní strana\n",
      "\n",
      "Průmyslové zboží je možné vrátit na základě\n",
      "originální nebo této elektronické účtenky v\n",
      "původním (nezávadném) stavu a originálním\n",
      "obalu do 30 dní od data nákupu.\n",
      "\n",
      "Dárkovou kartu není možné vrátit, ani vyměnit.\n",
      "\n",
      "Lidl Česká republika v.o.s.\n",
      "Nárožní 1359/11, 158 00 Praha 5\n",
      "IČ: 26178541, DIČ: CZ26178541\n",
      "\n",
      "MS Praha, zn. A/42824\n",
      "\n",
      "Nákup proveden na provoz..\n",
      "\n",
      "Praha 11, Vojtíškova\n",
      "Vojtíškova 1783\n",
      "142 00 Praha 11\n",
      "\n",
      "Informace o prodejně\n",
      "\n",
      "Uplatněné kupóny:\n",
      "\n",
      "v 20 %sleva - / Až 400 Kč na Tvůj\n",
      "nákup v ul. Vojtíškova\n",
      "Začátek platnosti:11/07/2022\n",
      "Konec platnosti: 18/07/2022\n",
      "Územní platnost: Lidl Praha 11, ul.\n",
      "Vojtíškova\n",
      "Akce se vztahuje nejvýše na ks\n",
      "\n",
      "V případě, že v prodejnách Lidl v\n",
      "České republice bude na zboží\n",
      "uplatněna sleva pro držitele Naší\n",
      "stravenky, sleva na zboží s končící\n",
      "dobou minimální trvanlivosti či jiná\n",
      "sleva na zboží, sleva na zboží v rámci\n",
      "služby Lidl Plus bude vypočítána vždy\n",
      "z ceny zboží po odečtení dříve\n",
      "uvedených slev.\n",
      "\n",
      "V případě uplatnění Vašich kupónů\n",
      "dostupných v sekci „Kupóny\" se sleva\n",
      "počítá z ceny po odečtení dříve\n",
      "uvedených slev.\n",
      "\n",
      "Prioritizace slev\n",
      "\n",
      "« Naše stravenka - 10 % výrobek za 100\n",
      "Kč = 90 Kč\n",
      "\n",
      "« Sleva 25 % na prodejně (oranžová\n",
      "nálepka) 90 Kč - 22,50 = 67,50 Kč\n",
      "\n",
      "+ Lidl Plus sleva -10 % , tj. 67,50 Kč —\n",
      "6,70 Kč = konečná cena 60,80 Kč\n",
      "\f",
      "\n"
     ]
    }
   ],
   "source": [
    "print(text)"
   ]
  },
  {
   "cell_type": "code",
   "execution_count": 6,
   "id": "3ade9b3a",
   "metadata": {},
   "outputs": [],
   "source": [
    "pattern = \"^([a-zA-ZáčďéíňóřšťúýžÁČĎÉÍŇÓŘŠŤÚÝŽ \\\\.\\\\\\'][a-zA-ZáčďéěíňóřšťůúýžÁČĎÉĚÍŇÓŘŠŤŮÚÝŽ \\\\.\\\\\\']*) {0,3}.* B$\""
   ]
  },
  {
   "cell_type": "code",
   "execution_count": 7,
   "id": "821d8556",
   "metadata": {},
   "outputs": [
    {
     "name": "stdout",
     "output_type": "stream",
     "text": [
      "Kuř.prsní řízky \n",
      "Plátkový sýr \n",
      "Hellmann's Tatar. \n",
      "Háagen Dazs Carame \n",
      "Hovězí mleté \n",
      "Štika ob.\n",
      "Pol.směs s k. \n",
      "Česká šunka od kos \n",
      "Avokádo \n",
      "Česnek suchý \n",
      "Mozzarella \n",
      "Dušená šunka \n",
      "Toast. chléb másl. \n",
      "Okurky polní \n",
      "Rohlík \n"
     ]
    }
   ],
   "source": [
    "found_food = []\n",
    "for line in text.split('\\n'):\n",
    "    found_line = re.search(pattern,line)\n",
    "    if found_line is not None:\n",
    "        print(found_line.group(1))\n",
    "        found_food.append(found_line.group(1))"
   ]
  },
  {
   "cell_type": "code",
   "execution_count": 8,
   "id": "03f93d0a",
   "metadata": {},
   "outputs": [],
   "source": [
    "translated_surky_LIST, NOT_translated_surky_LIST = getListNakup(found_food, universum_surek)"
   ]
  },
  {
   "cell_type": "code",
   "execution_count": 9,
   "id": "c4c31810",
   "metadata": {},
   "outputs": [
    {
     "name": "stdout",
     "output_type": "stream",
     "text": [
      "['maso Hovězí mleté', 'Štika', 'šunka', 'Avokádo', 'Česnek', 'Mozzarella', 'šunka', 'chléb', 'Okurky polní', 'Rohlík']\n"
     ]
    }
   ],
   "source": [
    "print(translated_surky_LIST)"
   ]
  },
  {
   "cell_type": "code",
   "execution_count": 10,
   "id": "3465ffb4",
   "metadata": {},
   "outputs": [],
   "source": [
    "path_auto_file = r'./add_automatically.surky'\n",
    "path_manual_file = r'./add_manually.surky'"
   ]
  },
  {
   "cell_type": "code",
   "execution_count": 11,
   "id": "b53cce64",
   "metadata": {},
   "outputs": [],
   "source": [
    "with open(path_auto_file, 'w') as file:\n",
    "    for item in translated_surky_LIST:\n",
    "        file.write(item+'\\n')"
   ]
  },
  {
   "cell_type": "code",
   "execution_count": 12,
   "id": "483963bb",
   "metadata": {},
   "outputs": [
    {
     "name": "stdout",
     "output_type": "stream",
     "text": [
      "['Kuř.prsní řízky', 'Plátkový sýr', \"Hellmann's Tatar.\", 'Háagen Dazs Carame', 'Pol.směs s k.']\n"
     ]
    }
   ],
   "source": [
    "print(NOT_translated_surky_LIST)"
   ]
  },
  {
   "cell_type": "code",
   "execution_count": 13,
   "id": "0ccec8b2",
   "metadata": {},
   "outputs": [],
   "source": [
    "with open(path_manual_file, 'w') as file:\n",
    "    for item in NOT_translated_surky_LIST:\n",
    "        file.write(item+'\\n')"
   ]
  },
  {
   "cell_type": "code",
   "execution_count": null,
   "id": "9d69e15c",
   "metadata": {},
   "outputs": [],
   "source": []
  }
 ],
 "metadata": {
  "kernelspec": {
   "display_name": "Python 3 (ipykernel)",
   "language": "python",
   "name": "python3"
  },
  "language_info": {
   "codemirror_mode": {
    "name": "ipython",
    "version": 3
   },
   "file_extension": ".py",
   "mimetype": "text/x-python",
   "name": "python",
   "nbconvert_exporter": "python",
   "pygments_lexer": "ipython3",
   "version": "3.9.16"
  }
 },
 "nbformat": 4,
 "nbformat_minor": 5
}
