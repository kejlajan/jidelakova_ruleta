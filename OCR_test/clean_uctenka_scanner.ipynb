{
 "cells": [
  {
   "cell_type": "code",
   "execution_count": 1,
   "id": "71436f7a",
   "metadata": {},
   "outputs": [],
   "source": [
    "import pytesseract\n",
    "from PIL import Image\n",
    "import re\n",
    "\n",
    "from thefuzz import fuzz\n",
    "from thefuzz import process"
   ]
  },
  {
   "cell_type": "code",
   "execution_count": 2,
   "id": "eb920b1c",
   "metadata": {},
   "outputs": [],
   "source": [
    "universum_surek = []\n",
    "with open('./universum.surky', 'r') as file:\n",
    "    for line in file.readlines():\n",
    "        universum_surek.append(line.strip('\\n').split(\",\")[0]) # odfiltrovat jednotky"
   ]
  },
  {
   "cell_type": "code",
   "execution_count": 3,
   "id": "27e249e4",
   "metadata": {},
   "outputs": [],
   "source": [
    "def getListNakup(food_list, universum_surek):\n",
    "    propsane_surky_LIST   = []\n",
    "    nepropsane_surky_LIST = [] \n",
    "    for item in food_list:\n",
    "        translation = process.extract(item,universum_surek, limit=1, scorer=fuzz.token_set_ratio)[0]\n",
    "        #print(translation)\n",
    "        if translation[1]>90:\n",
    "            propsane_surky_LIST.append(translation[0])\n",
    "        else:\n",
    "            nepropsane_surky_LIST.append(item.strip(' '))\n",
    "        \n",
    "    return propsane_surky_LIST, nepropsane_surky_LIST"
   ]
  },
  {
   "cell_type": "code",
   "execution_count": 4,
   "id": "a54d3047",
   "metadata": {},
   "outputs": [],
   "source": [
    "image=Image.open('uctenky/lidl_app/uctenka_6.JPEG')\n",
    "text = pytesseract.image_to_string(image, lang='ces')"
   ]
  },
  {
   "cell_type": "code",
   "execution_count": 5,
   "id": "a78db1c2",
   "metadata": {
    "scrolled": true
   },
   "outputs": [
    {
     "name": "stdout",
     "output_type": "stream",
     "text": [
      "Elektronický opis\n",
      "\n",
      "o\n",
      "LÝ9DI Jednička v čerstvosti\n",
      "\n",
      "Provozovna:\n",
      "Praha, Na Slupi\n",
      "Kč\n",
      "\n",
      "Ice Tea broskev 18,90 B\n",
      "Popcorn slaný 29,90 B\n",
      "Vařená šunka 34,90 B\n",
      "Mediterraner 71,86 B\n",
      "E. 8,144 kg. x 499,00 Kč/kg\n",
      "Kabanosky uherák. 44,90 B\n",
      "Grůnes Pesto 77,35 B\n",
      "E 0,155 kg. x 499,08 Kč/kg\n",
      "Hummus s chilli 29,90 B\n",
      "Sušenky s krémem 44,90 B\n",
      "Smetana kys. 16% 15,90 B\n",
      "Camembert 128g 29,90 B\n",
      "K PLATBĚ 398,41\n",
      "Karta 398,41\n",
      "Celková zaplacená částka 398,41\n",
      "\n",
      "01/11/23 14:20 Účtenka číslo 08912\n",
      "Terminál: (LI033285-53268332)\n",
      "PRODEJ 398.41 Kč\n",
      "k*kkž kkkk **** 8008 / 88 (L) VISA\n",
      "\n",
      "A0 00 00 00 03 10 10 Visa DEBIT\n",
      "Visa Contactless\n",
      "SEO ID: 001:144:078, Autoriz. kód 652107\n",
      "Mobile Pin | *NO REFUND+\n",
      "\n",
      "0332 009358/085/85 81.11.23 14:19:17\n",
      "E = Váha přenesená z čárového kódu EAN\n",
      "Záruční a další údaje - zadní strana\n",
      "\n",
      " \n",
      "\n",
      "Průmyslové zboží je možné vrátit na základě\n",
      "\n",
      "originální nebo této elektronické účtenky v\n",
      "\n",
      "původním (nezávadném) stavu a originálním\n",
      "obalu do 30 dní od data nákupu.\n",
      "\n",
      "Dárkovou kartu není možné vrátit, ani vyměnit.\n",
      "\n",
      "Lidl Česká republika v.o.s.\n",
      "Nárožní 1359/11, 158 00 Praha 5\n",
      "IČ: 26178541, DIČ: CZ26178541\n",
      "\n",
      "MS Praha, zn. A/42824\n",
      "\n",
      "Nákup proveden na provoz..\n",
      "Praha 2, Na Slupi\n",
      "\n",
      "Na Slupi 2103/2c\n",
      "\n",
      "120 00 Praha\n",
      "\n",
      "Informace o prodejně\n",
      "\f",
      "\n"
     ]
    }
   ],
   "source": [
    "print(text)"
   ]
  },
  {
   "cell_type": "code",
   "execution_count": 6,
   "id": "3ade9b3a",
   "metadata": {},
   "outputs": [],
   "source": [
    "pattern = \"^([a-zA-ZáčďéíňóřšťúýžÁČĎÉÍŇÓŘŠŤÚÝŽ \\\\.\\\\\\'][a-zA-ZáčďéěíňóřšťůúýžÁČĎÉĚÍŇÓŘŠŤŮÚÝŽ \\\\.\\\\\\']*) {0,3}.* B$\""
   ]
  },
  {
   "cell_type": "code",
   "execution_count": 7,
   "id": "821d8556",
   "metadata": {},
   "outputs": [
    {
     "name": "stdout",
     "output_type": "stream",
     "text": [
      "Ice Tea broskev \n",
      "Popcorn slaný \n",
      "Vařená šunka \n",
      "Mediterraner \n",
      "Kabanosky uherák. \n",
      "Grůnes Pesto \n",
      "Hummus s chilli \n",
      "Sušenky s krémem \n",
      "Smetana kys. \n",
      "Camembert \n"
     ]
    }
   ],
   "source": [
    "found_food = []\n",
    "for line in text.split('\\n'):\n",
    "    found_line = re.search(pattern,line)\n",
    "    if found_line is not None:\n",
    "        print(found_line.group(1))\n",
    "        found_food.append(found_line.group(1))"
   ]
  },
  {
   "cell_type": "code",
   "execution_count": 8,
   "id": "03f93d0a",
   "metadata": {},
   "outputs": [],
   "source": [
    "translated_surky_LIST, NOT_translated_surky_LIST = getListNakup(found_food, universum_surek)"
   ]
  },
  {
   "cell_type": "code",
   "execution_count": 9,
   "id": "c4c31810",
   "metadata": {},
   "outputs": [
    {
     "name": "stdout",
     "output_type": "stream",
     "text": [
      "['šunka', 'hummus', 'smetana kys', 'camembert']\n"
     ]
    }
   ],
   "source": [
    "print(translated_surky_LIST)"
   ]
  },
  {
   "cell_type": "code",
   "execution_count": 10,
   "id": "3465ffb4",
   "metadata": {},
   "outputs": [],
   "source": [
    "path_auto_file = r'./add_automatically.surky'\n",
    "path_manual_file = r'./add_manually.surky'"
   ]
  },
  {
   "cell_type": "code",
   "execution_count": 11,
   "id": "b53cce64",
   "metadata": {},
   "outputs": [],
   "source": [
    "with open(path_auto_file, 'w') as file:\n",
    "    for item in translated_surky_LIST:\n",
    "        file.write(item+'\\n')"
   ]
  },
  {
   "cell_type": "code",
   "execution_count": 12,
   "id": "483963bb",
   "metadata": {},
   "outputs": [
    {
     "name": "stdout",
     "output_type": "stream",
     "text": [
      "['Ice Tea broskev', 'Popcorn slaný', 'Mediterraner', 'Kabanosky uherák.', 'Grůnes Pesto', 'Sušenky s krémem']\n"
     ]
    }
   ],
   "source": [
    "print(NOT_translated_surky_LIST)"
   ]
  },
  {
   "cell_type": "code",
   "execution_count": 13,
   "id": "0ccec8b2",
   "metadata": {},
   "outputs": [],
   "source": [
    "with open(path_manual_file, 'w') as file:\n",
    "    for item in NOT_translated_surky_LIST:\n",
    "        file.write(item+'\\n')"
   ]
  },
  {
   "cell_type": "code",
   "execution_count": null,
   "id": "9d69e15c",
   "metadata": {},
   "outputs": [],
   "source": []
  }
 ],
 "metadata": {
  "kernelspec": {
   "display_name": "Python 3 (ipykernel)",
   "language": "python",
   "name": "python3"
  },
  "language_info": {
   "codemirror_mode": {
    "name": "ipython",
    "version": 3
   },
   "file_extension": ".py",
   "mimetype": "text/x-python",
   "name": "python",
   "nbconvert_exporter": "python",
   "pygments_lexer": "ipython3",
   "version": "3.10.12"
  }
 },
 "nbformat": 4,
 "nbformat_minor": 5
}
