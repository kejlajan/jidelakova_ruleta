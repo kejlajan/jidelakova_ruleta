{
 "cells": [
  {
   "cell_type": "code",
   "execution_count": 1,
   "id": "71436f7a",
   "metadata": {},
   "outputs": [],
   "source": [
    "import pytesseract\n",
    "from PIL import Image\n",
    "import re\n",
    "\n",
    "from thefuzz import fuzz\n",
    "from thefuzz import process"
   ]
  },
  {
   "cell_type": "code",
   "execution_count": 2,
   "id": "eb920b1c",
   "metadata": {},
   "outputs": [],
   "source": [
    "universum_surek = []\n",
    "with open('./universum.surky', 'r') as file:\n",
    "    for line in file.readlines():\n",
    "        universum_surek.append(line.strip('\\n'))"
   ]
  },
  {
   "cell_type": "code",
   "execution_count": 3,
   "id": "27e249e4",
   "metadata": {},
   "outputs": [],
   "source": [
    "def getListNakup(food_list, universum_surek):\n",
    "    propsane_surky_LIST   = []\n",
    "    nepropsane_surky_LIST = [] \n",
    "    for item in food_list:\n",
    "        translation = process.extract(item,universum_surek, limit=1, scorer=fuzz.token_set_ratio)[0]\n",
    "        #print(translation)\n",
    "        if translation[1]>90:\n",
    "            propsane_surky_LIST.append(translation[0])\n",
    "        else:\n",
    "            nepropsane_surky_LIST.append(item.strip(' '))\n",
    "        \n",
    "    return propsane_surky_LIST, nepropsane_surky_LIST"
   ]
  },
  {
   "cell_type": "code",
   "execution_count": 4,
   "id": "a54d3047",
   "metadata": {},
   "outputs": [],
   "source": [
    "image=Image.open('uctenky/lidl_app/uctenka_5.JPEG')\n",
    "text = pytesseract.image_to_string(image, lang='ces')"
   ]
  },
  {
   "cell_type": "code",
   "execution_count": 5,
   "id": "a78db1c2",
   "metadata": {
    "scrolled": true
   },
   "outputs": [
    {
     "name": "stdout",
     "output_type": "stream",
     "text": [
      "©\n",
      "LDL Jednička v čerstvosti\n",
      "\n",
      "Provozovna:\n",
      "Praha, Vršovická\n",
      "\n",
      "Kč\n",
      "Paprika cervena 21,57 B\n",
      "N. 0,278 kg. x 79,90 Kč/kg\n",
      "Pap. taška střední 8,980 C\n",
      "Granatové jablko 29,90 B\n",
      "Mrkev vazena 6,87 B\n",
      "N. 8,276 kg. x 24,98. Kč/kg\n",
      "Oreo Double Vanill 34,90 B\n",
      "Zeli bile 28,64 B\n",
      "N. 2,228 kg. x 12,90. Kč/kg\n",
      "Knorr hovězí bujon 59,90 B\n",
      "GranDioso doub.čok 33,00 B\n",
      "\n",
      "2 ks x 16,50 Kč/ks\n",
      "\n",
      "Sirup malina 54,90 B\n",
      "Vepř. peč. v celku 123,27 B\n",
      "E 0,516 kg. x 238,90 Kč/kg\n",
      "Banany 40,46 B\n",
      "NO 1,014 kg. x 39,90. Kč/kg\n",
      "Cherry rajčata čer 59,90 B\n",
      "K PLATBĚ 502,21\n",
      "Karta 502,21\n",
      "Celková zaplacená částka 502,21\n",
      "\n",
      "Ohodnoťte Váš nákup\n",
      "a vyhrajte nový iPhone 14\n",
      "lidl.cz/hodnoceni\n",
      "\n",
      "08/11/23 15:41 Účtenka číslo 04910\n",
      "Terminál: (LIDL1243-53268124)\n",
      "PRODEJ 502.21 CZK\n",
      "k*kkž kkkk **** 2963 / 88 (L) VISA\n",
      "A0 00 00 00 03 10 10 Visa DEBIT\n",
      "\n",
      "Visa Contactless\n",
      "SEO ID: 002:594:120, Autoriz. kód 324267\n",
      "Mobile Pin *NO REFUNDx\n",
      "\n",
      " \n",
      "\n",
      "B 15% DPH z 493,31 64,34\n",
      "C 21% DPH z 8,90 1,54\n",
      "\n",
      "124. 031481/016/03 08.11.23 15:41:05\n",
      "= Váha přenesená z čárového kódu EAN\n",
      "\n",
      "= Netto váha\n",
      "\n",
      "Záruční a další údaje - zadní strana\n",
      "\n",
      "ZAM\n",
      "\n",
      "Průmyslové zboží je možné vrátit na základě\n",
      "originální nebo této elektronické účtenky v\n",
      "původním (nezávadném) stavu a originálním\n",
      "obalu do 30 dní od data nákupu.\n",
      "\n",
      "0\n",
      "E\n",
      "N\n",
      "\n",
      "Dárkovou kartu není možné vrátit, ani vyměnit.\n",
      "\n",
      "Lidl Česká republika v.o.s.\n",
      "Nárožní 1359/11, 158 00 Praha 5\n",
      "IČ: 26178541, DIČ: CZ26178541\n",
      "\n",
      "MS Praha, zn. A/42824\n",
      "\n",
      "Nákup proveden na provoz..\n",
      "\n",
      "Praha 10, Vršovická\n",
      "Vršovická 1525/1a\n",
      "120 00 Praha 10\n",
      "\n",
      "Informace o prodejně\n",
      "\f",
      "\n"
     ]
    }
   ],
   "source": [
    "print(text)"
   ]
  },
  {
   "cell_type": "code",
   "execution_count": 6,
   "id": "3ade9b3a",
   "metadata": {},
   "outputs": [],
   "source": [
    "pattern = \"^([a-zA-ZáčďéíňóřšťúýžÁČĎÉÍŇÓŘŠŤÚÝŽ \\\\.\\\\\\'][a-zA-ZáčďéěíňóřšťůúýžÁČĎÉĚÍŇÓŘŠŤŮÚÝŽ \\\\.\\\\\\']*) {0,3}.* B$\""
   ]
  },
  {
   "cell_type": "code",
   "execution_count": 7,
   "id": "821d8556",
   "metadata": {},
   "outputs": [
    {
     "name": "stdout",
     "output_type": "stream",
     "text": [
      "Paprika cervena \n",
      "Granatové jablko \n",
      "Mrkev vazena \n",
      "Oreo Double Vanill \n",
      "Zeli bile \n",
      "Knorr hovězí bujon \n",
      "GranDioso doub.čok \n",
      "Sirup malina \n",
      "Vepř. peč. v celku \n",
      "Banany \n",
      "Cherry rajčata čer \n"
     ]
    }
   ],
   "source": [
    "found_food = []\n",
    "for line in text.split('\\n'):\n",
    "    found_line = re.search(pattern,line)\n",
    "    if found_line is not None:\n",
    "        print(found_line.group(1))\n",
    "        found_food.append(found_line.group(1))"
   ]
  },
  {
   "cell_type": "code",
   "execution_count": 8,
   "id": "03f93d0a",
   "metadata": {},
   "outputs": [],
   "source": [
    "translated_surky_LIST, NOT_translated_surky_LIST = getListNakup(found_food, universum_surek)"
   ]
  },
  {
   "cell_type": "code",
   "execution_count": 9,
   "id": "c4c31810",
   "metadata": {},
   "outputs": [
    {
     "name": "stdout",
     "output_type": "stream",
     "text": [
      "['mrkev', 'Banany', 'rajčata']\n"
     ]
    }
   ],
   "source": [
    "print(translated_surky_LIST)"
   ]
  },
  {
   "cell_type": "code",
   "execution_count": 10,
   "id": "3465ffb4",
   "metadata": {},
   "outputs": [],
   "source": [
    "path_auto_file = r'./add_automatically.surky'\n",
    "path_manual_file = r'./add_manually.surky'"
   ]
  },
  {
   "cell_type": "code",
   "execution_count": 11,
   "id": "b53cce64",
   "metadata": {},
   "outputs": [],
   "source": [
    "with open(path_auto_file, 'w') as file:\n",
    "    for item in translated_surky_LIST:\n",
    "        file.write(item+'\\n')"
   ]
  },
  {
   "cell_type": "code",
   "execution_count": 12,
   "id": "483963bb",
   "metadata": {},
   "outputs": [
    {
     "name": "stdout",
     "output_type": "stream",
     "text": [
      "['Paprika cervena', 'Granatové jablko', 'Oreo Double Vanill', 'Zeli bile', 'Knorr hovězí bujon', 'GranDioso doub.čok', 'Sirup malina', 'Vepř. peč. v celku']\n"
     ]
    }
   ],
   "source": [
    "print(NOT_translated_surky_LIST)"
   ]
  },
  {
   "cell_type": "code",
   "execution_count": 13,
   "id": "0ccec8b2",
   "metadata": {},
   "outputs": [],
   "source": [
    "with open(path_manual_file, 'w') as file:\n",
    "    for item in NOT_translated_surky_LIST:\n",
    "        file.write(item+'\\n')"
   ]
  },
  {
   "cell_type": "code",
   "execution_count": null,
   "id": "9d69e15c",
   "metadata": {},
   "outputs": [],
   "source": []
  }
 ],
 "metadata": {
  "kernelspec": {
   "display_name": "Python 3 (ipykernel)",
   "language": "python",
   "name": "python3"
  },
  "language_info": {
   "codemirror_mode": {
    "name": "ipython",
    "version": 3
   },
   "file_extension": ".py",
   "mimetype": "text/x-python",
   "name": "python",
   "nbconvert_exporter": "python",
   "pygments_lexer": "ipython3",
   "version": "3.10.12"
  }
 },
 "nbformat": 4,
 "nbformat_minor": 5
}
