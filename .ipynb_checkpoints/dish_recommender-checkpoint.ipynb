{
 "cells": [
  {
   "cell_type": "code",
   "execution_count": 1,
   "id": "50a55783",
   "metadata": {},
   "outputs": [],
   "source": [
    "import random\n",
    "import sys\n",
    "import json"
   ]
  },
  {
   "cell_type": "markdown",
   "id": "b442eed0",
   "metadata": {},
   "source": [
    "### def a function that searches for the dishes that are cookable"
   ]
  },
  {
   "cell_type": "code",
   "execution_count": 2,
   "id": "21feb198",
   "metadata": {},
   "outputs": [],
   "source": [
    "def NameFromIngredients (*args):\n",
    "    if len(args) == 0:\n",
    "        return 0  # return 0 as an error of some sort\n",
    "    else:\n",
    "        set_of_args = set(args)\n",
    "        foodnames = []\n",
    "        # Iterate through the outer dictionary\n",
    "        for jidlo in my_dict[\"jidla\"]:\n",
    "            # Iterate through the inner dictionaries\n",
    "            for jmeno, details in jidlo.items():\n",
    "                if set(details[\"surky\"]) <= set_of_args:\n",
    "                    foodnames.append(jmeno)\n",
    "        return foodnames"
   ]
  },
  {
   "cell_type": "markdown",
   "id": "b93b2a35",
   "metadata": {},
   "source": [
    "### def a function that searches for a dish by name and returns its final cost"
   ]
  },
  {
   "cell_type": "code",
   "execution_count": 3,
   "id": "f5a0e765",
   "metadata": {},
   "outputs": [],
   "source": [
    "def CostFromName (name):\n",
    "    for dish in my_dict[\"jidla\"]:\n",
    "        jmeno = (list(dish.keys())[0])\n",
    "        try:\n",
    "            if jmeno == name:\n",
    "                cost_list_surek = [float(surky_doma[surka]) for surka in dish[name][\"surky\"]]\n",
    "                return round(sum(cost_list_surek), 2)\n",
    "            else:\n",
    "                pass\n",
    "        \n",
    "        except KeyError:\n",
    "            # dopsat mozna hlasku nebo neco\n",
    "            return 0\n",
    "       "
   ]
  },
  {
   "cell_type": "markdown",
   "id": "7b5d728d",
   "metadata": {},
   "source": [
    "### read surky from file"
   ]
  },
  {
   "cell_type": "code",
   "execution_count": 4,
   "id": "80d3c8fd",
   "metadata": {},
   "outputs": [],
   "source": [
    "surky_doma = {}\n",
    "with open('./doma.surky', 'r') as surky_file:\n",
    "    for line in surky_file:\n",
    "        line = line.strip()  # Remove leading/trailing whitespace, including '\\n'\n",
    "        if not line.startswith('#'):\n",
    "            line = line.split() # split by spaces\n",
    "            surky_doma[line[0]]=line[1] # add into dictionary"
   ]
  },
  {
   "cell_type": "markdown",
   "id": "60df58ef",
   "metadata": {},
   "source": [
    "### read kucharka from file"
   ]
  },
  {
   "cell_type": "code",
   "execution_count": 5,
   "id": "3e7cee1a",
   "metadata": {},
   "outputs": [],
   "source": [
    "with open(\"./kucharka.json\", \"r\",) as kucharka_json_file:\n",
    "    my_dict = json.load(kucharka_json_file)"
   ]
  },
  {
   "cell_type": "markdown",
   "id": "e150d27b",
   "metadata": {},
   "source": [
    "### /\\*jakoby\\*/ main{..."
   ]
  },
  {
   "cell_type": "code",
   "execution_count": 6,
   "id": "b3fa93e1",
   "metadata": {},
   "outputs": [
    {
     "name": "stdout",
     "output_type": "stream",
     "text": [
      "koprovka: 94.7,-\n",
      "parky: 89.2,-\n"
     ]
    }
   ],
   "source": [
    "ingredients_at_home = list(surky_doma.keys())\n",
    "#ingredients_at_home = [] #test the empty list -- to be solved later\n",
    "dishes_to_cook = NameFromIngredients(*ingredients_at_home)\n",
    "\n",
    "for jidlo in dishes_to_cook:\n",
    "    print(f'{jidlo}: {CostFromName(jidlo)},-')"
   ]
  },
  {
   "cell_type": "code",
   "execution_count": null,
   "id": "4dea2648",
   "metadata": {},
   "outputs": [],
   "source": []
  }
 ],
 "metadata": {
  "kernelspec": {
   "display_name": "Python 3 (ipykernel)",
   "language": "python",
   "name": "python3"
  },
  "language_info": {
   "codemirror_mode": {
    "name": "ipython",
    "version": 3
   },
   "file_extension": ".py",
   "mimetype": "text/x-python",
   "name": "python",
   "nbconvert_exporter": "python",
   "pygments_lexer": "ipython3",
   "version": "3.9.16"
  }
 },
 "nbformat": 4,
 "nbformat_minor": 5
}
