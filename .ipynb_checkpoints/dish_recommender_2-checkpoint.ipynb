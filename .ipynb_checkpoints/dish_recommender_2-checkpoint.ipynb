{
 "cells": [
  {
   "cell_type": "code",
   "execution_count": 3,
   "id": "50a55783",
   "metadata": {},
   "outputs": [],
   "source": [
    "import random\n",
    "import sys\n",
    "import json\n",
    "import tkinter as tk"
   ]
  },
  {
   "cell_type": "code",
   "execution_count": 13,
   "id": "864bcad4",
   "metadata": {},
   "outputs": [],
   "source": [
    "def your_function():\n",
    "    text = entry.get()  # Get input from the entry field\n",
    "    label.config(text=text)  # Update the label with the input text"
   ]
  },
  {
   "cell_type": "code",
   "execution_count": 23,
   "id": "a48a367d",
   "metadata": {},
   "outputs": [],
   "source": [
    "app = tk.Tk()\n",
    "app.title(\"Doporucovac jidel\")\n",
    "\n",
    "label = tk.Label(app, text = \"Zadejte prosim pocet osob:\")\n",
    "label.pack()\n",
    "\n",
    "entry = tk.Entry(app)\n",
    "entry.pack()\n",
    "\n",
    "button = tk.Button(app, text = \"enter\", command = your_function)\n",
    "button.pack()\n",
    "\n",
    "button_2 = tk.Button(app, text= \"kliknete sem\")\n",
    "button.pack\n",
    "\n",
    "app.mainloop()"
   ]
  },
  {
   "cell_type": "code",
   "execution_count": 2,
   "id": "3e7cee1a",
   "metadata": {},
   "outputs": [],
   "source": [
    "\n",
    "\n",
    "# searches for a dish by name and returns its list of ingredients\n",
    "def IngredientsFromName (name):\n",
    "    try:\n",
    "        return my_dict[\"jidla\"][name][name][\"surky\"]\n",
    "    except KeyError as K:\n",
    "        pokrm_co_chybi = str(K).split(\"'\")[1]\n",
    "        return f\"KeyError: Pokrm zvany '{pokrm_co_chybi}' nebyl v kucharce nalezen.\"\n",
    "        \n",
    "\n",
    "# searches for a dish by name and returns its final cost vector\n",
    "def CostVectFromName (name):\n",
    "        return [ surky_doma[ingredient] for ingredient in IngredientsFromName(name)]\n",
    "\n",
    "\n",
    "\n",
    "# returns ingredients amount vector from name\n",
    "def IngrAmountVectFromName (name):\n",
    "    try:\n",
    "        return my_dict[\"jidla\"][name][name][\"mnozstvi\"]\n",
    "    except KeyError as K:\n",
    "        pokrm_co_chybi = str(K).split(\"'\")[1]\n",
    "        return f\"KeyError: Pokrm zvany '{pokrm_co_chybi}' nebyl v kucharce nalezen.\"\n",
    "\n",
    "\n",
    "\n",
    "# searches for a dish by name and returns its final cost vector\n",
    "def CostFromName (name):\n",
    "        return round(sum([a * b for a,b in zip(CostVectFromName(name), IngrAmountVectFromName(name))]),2)\n",
    "\n",
    "\n",
    "\n",
    "# searches for the dishes that are cookable with @home ingredients\n",
    "def NameFromIngredients (*args):\n",
    "    if len(args) < 1:\n",
    "        return \"NameFromIngredientsError: Zadne ingredience nebyly zadany -- nejake zadejte.\"\n",
    "    else:\n",
    "        set_of_args = set(args)\n",
    "        foodnames = []\n",
    "        for jidlo in list(my_dict[\"jidla\"].keys()):\n",
    "            if set(IngredientsFromName(jidlo)) <= set_of_args:\n",
    "                foodnames.append(jidlo)\n",
    "            else:\n",
    "                pass\n",
    "        return foodnames\n",
    "\n",
    "\n",
    "\n",
    "# returns details from name nicely\n",
    "def DetailsFromName (name):\n",
    "    jidlo = my_dict[\"jidla\"][name][name]\n",
    "    return name, jidlo[\"surky\"], jidlo[\"mnozstvi\"], jidlo[\"postup\"]\n",
    "\n",
    "\n",
    "# prints details of a food nicely\n",
    "def PrintDetailsFromName (name):\n",
    "    dish, ingredients_vector, amount_vector, recipe = DetailsFromName(name) \n",
    "    print(f'{dish.upper()}:')\n",
    "    print(\"---------------------------------------\")\n",
    "    print(f'''Postup:\n",
    "{recipe}''')\n",
    "    for ingredient, amount in zip(ingredients_vector, amount_vector):\n",
    "        print(f'-- {ingredient} ... {amount}')\n",
    "\n",
    "\n",
    "\n",
    "# read surky from file\n",
    "surky_doma = {}\n",
    "with open('./doma.surky', 'r') as surky_file:\n",
    "    for line in surky_file:\n",
    "        line = line.strip()  # Remove leading/trailing whitespace, including '\\n'\n",
    "        if not line.startswith('#'):\n",
    "            line = line.split() # split by spaces\n",
    "            surky_doma[line[0]]=float(line[1]) # add into dictionary\n",
    "\n",
    "\n",
    "\n",
    "# read kucharka from file\n",
    "with open(\"./kucharka_2.json\", \"r\",) as kucharka_json_file:\n",
    "    my_dict = json.load(kucharka_json_file)"
   ]
  },
  {
   "cell_type": "markdown",
   "id": "e150d27b",
   "metadata": {},
   "source": [
    "### /\\*jakoby\\*/ main{..."
   ]
  },
  {
   "cell_type": "code",
   "execution_count": 3,
   "id": "b3fa93e1",
   "metadata": {},
   "outputs": [
    {
     "name": "stdout",
     "output_type": "stream",
     "text": [
      "koprovka ... 324.2,\n",
      "parky ... 60.87,\n"
     ]
    }
   ],
   "source": [
    "ingredients_at_home = list(surky_doma.keys())\n",
    "names_of_dishes_availible = NameFromIngredients(*ingredients_at_home)\n",
    "for dish in names_of_dishes_availible:\n",
    "    print(f\"{dish} ... {CostFromName(dish)},\")"
   ]
  },
  {
   "cell_type": "code",
   "execution_count": 4,
   "id": "d8f941aa",
   "metadata": {},
   "outputs": [
    {
     "data": {
      "text/plain": [
       "['koprovka', 'parky']"
      ]
     },
     "execution_count": 4,
     "metadata": {},
     "output_type": "execute_result"
    }
   ],
   "source": [
    "names_of_dishes_availible"
   ]
  },
  {
   "cell_type": "code",
   "execution_count": 5,
   "id": "25d20a4e",
   "metadata": {},
   "outputs": [
    {
     "name": "stdout",
     "output_type": "stream",
     "text": [
      "=======================================\n",
      "KOPROVKA:\n",
      "---------------------------------------\n",
      "Postup:\n",
      "Nakrajime surky, hodime je do hrnce a tak uvarime kopracku, nebo ne, ja nevim\n",
      "-- vejce ... 6\n",
      "-- kopr ... 1\n",
      "-- cibule ... 1\n",
      "=======================================\n",
      "PARKY:\n",
      "---------------------------------------\n",
      "Postup:\n",
      "Nakrajime chleba, parky hodime do hrnce a za pet minut je hotovo, podavame s kecupem\n",
      "-- parky ... 6\n",
      "-- chleba ... 0.3\n",
      "=======================================\n"
     ]
    }
   ],
   "source": [
    "for dish in names_of_dishes_availible:\n",
    "    print(\"=======================================\")\n",
    "    PrintDetailsFromName(dish)\n",
    "print(\"=======================================\")"
   ]
  },
  {
   "cell_type": "code",
   "execution_count": null,
   "id": "3564fca4",
   "metadata": {},
   "outputs": [],
   "source": []
  }
 ],
 "metadata": {
  "kernelspec": {
   "display_name": "Python 3 (ipykernel)",
   "language": "python",
   "name": "python3"
  },
  "language_info": {
   "codemirror_mode": {
    "name": "ipython",
    "version": 3
   },
   "file_extension": ".py",
   "mimetype": "text/x-python",
   "name": "python",
   "nbconvert_exporter": "python",
   "pygments_lexer": "ipython3",
   "version": "3.9.16"
  }
 },
 "nbformat": 4,
 "nbformat_minor": 5
}
