{
 "cells": [
  {
   "cell_type": "code",
   "execution_count": null,
   "id": "0d29cfc8",
   "metadata": {},
   "outputs": [],
   "source": [
    "import tkinter as tk\n",
    "from tkinter import filedialog"
   ]
  },
  {
   "cell_type": "code",
   "execution_count": 1,
   "id": "4f2b4b07",
   "metadata": {},
   "outputs": [],
   "source": [
    "def OpenFileOpenDialog():\n",
    "    file_path = filedialog.askopenfilename(initialdir=\"./\", title=\"Select a file\")\n",
    "    if file_path:\n",
    "        inspect_file_BTN.config(state=tk.NORMAL)\n",
    "        global selected_file_STR\n",
    "        selected_file_STR = file_path\n",
    "        UpdateSelectedFilepath()\n",
    "\n",
    "def InspectFile():\n",
    "    if 'selected_file_STR' in globals():\n",
    "        with open(selected_file_STR, 'r') as file:\n",
    "            file_contents = file.read()\n",
    "            display_window = tk.Toplevel(root_WIN)\n",
    "            display_window.title(\"File Contents\")\n",
    "            text_widget = tk.Text(display_window)\n",
    "            text_widget.insert(tk.END, file_contents)\n",
    "            text_widget.pack()\n",
    "\n",
    "def UpdateSelectedFilepath():\n",
    "    path_to_file_LBL.config(text = f\"selcted file is: {selected_file_STR}\")\n",
    "\n",
    "def LaunchKucharka():\n",
    "    root_WIN.destroy()"
   ]
  },
  {
   "cell_type": "code",
   "execution_count": null,
   "id": "e8e65eb7",
   "metadata": {},
   "outputs": [],
   "source": [
    "selected_file_STR = 'none yet'\n",
    "\n",
    "root_WIN = tk.Tk()\n",
    "\n",
    "select_file_BTN = tk.Button(root_WIN, text='select file', command = OpenFileOpenDialog)\n",
    "select_file_BTN.pack()\n",
    "\n",
    "path_to_file_LBL = tk.Label(root_WIN, text = f'selected file is: {selected_file_STR}')\n",
    "path_to_file_LBL.pack()\n",
    "\n",
    "\n",
    "inspect_file_BTN = tk.Button(root_WIN, text = 'inspect selected file', command = InspectFile)\n",
    "inspect_file_BTN.pack()\n",
    "\n",
    "launch_kucharka_BTN = tk.Button(root_WIN, text = 'Launch kucharka', command = LaunchKucharka )\n",
    "launch_kucharka_BTN.pack()\n",
    "\n",
    "root_WIN.mainloop()"
   ]
  },
  {
   "cell_type": "code",
   "execution_count": null,
   "id": "aeda6ba5",
   "metadata": {},
   "outputs": [],
   "source": [
    "print(selected_file_STR)"
   ]
  },
  {
   "cell_type": "code",
   "execution_count": null,
   "id": "5e2e0bc8",
   "metadata": {},
   "outputs": [],
   "source": []
  }
 ],
 "metadata": {
  "kernelspec": {
   "display_name": "Python 3 (ipykernel)",
   "language": "python",
   "name": "python3"
  },
  "language_info": {
   "codemirror_mode": {
    "name": "ipython",
    "version": 3
   },
   "file_extension": ".py",
   "mimetype": "text/x-python",
   "name": "python",
   "nbconvert_exporter": "python",
   "pygments_lexer": "ipython3",
   "version": "3.9.16"
  }
 },
 "nbformat": 4,
 "nbformat_minor": 5
}
