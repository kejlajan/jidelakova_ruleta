{
 "cells": [
  {
   "cell_type": "code",
   "execution_count": 1,
   "id": "446aa33c",
   "metadata": {},
   "outputs": [
    {
     "name": "stdout",
     "output_type": "stream",
     "text": [
      "Data has been written to food_recipe.json\n"
     ]
    }
   ],
   "source": [
    "import json\n",
    "\n",
    "# Sample data\n",
    "food_data = {\n",
    "    \"food_name\": \"Spaghetti Bolognese\",\n",
    "    \"food_recipe\": \"A delicious spaghetti recipe with Bolognese sauce.\",\n",
    "    \"raw_groceries\": [\"spaghetti\", \"ground beef\", \"tomatoes\", \"onions\", \"garlic\"],\n",
    "    \"amount_groceries\": [400, 300, 500, 150, 3]\n",
    "}\n",
    "\n",
    "# Specify the file path\n",
    "file_path = \"food_recipe.json\"\n",
    "\n",
    "# Open the file in write mode and use json.dump() to write the data\n",
    "with open(file_path, 'w') as json_file:\n",
    "    json.dump(food_data, json_file, indent=2)  # Use indent for pretty formatting\n",
    "\n",
    "print(f\"Data has been written to {file_path}\")\n"
   ]
  },
  {
   "cell_type": "code",
   "execution_count": 30,
   "id": "18f7e350",
   "metadata": {},
   "outputs": [],
   "source": [
    "def is_empty(filepath):\n",
    "    with open(filepath, \"r\") as file:\n",
    "        contents = file.read()\n",
    "    return len(contents) <= 1\n",
    "\n",
    "def open_curly_brace(filepath):\n",
    "    with open(filepath, \"a\") as file:\n",
    "        file.write('{')\n",
    "\n",
    "def close_curly_brace(filepath):\n",
    "    with open(filepath, \"a\") as file:\n",
    "        file.write('}')\n",
    "\n",
    "def put_comma(filepath):\n",
    "    with open(filepath, \"a\") as file:\n",
    "        file.write(',')\n",
    "\n",
    "        \n",
    "def write_record(food_name, list_of_groceries, amounts_of_groceries, recipe_description, filepath):\n",
    "\n",
    "   food_data = { \n",
    "       food_name : {\n",
    "       \"surky\":list_of_groceries,\n",
    "       \"mnozstvi\":amounts_of_groceries,\n",
    "       \"popis\":recipe_description\n",
    "       }\n",
    "   }\n",
    "   with open(filepath, \"w\") as file:\n",
    "        json.dump(food_data,file,indent=4)\n",
    "\n",
    "def insert_into_json(food_name, list_of_groceries, amounts_of_groceries, recipe_description, filepath):\n",
    "    if is_empty(filepath):\n",
    "        open_curly_brace(filepath)\n",
    "        write_record(food_name, list_of_groceries, amounts_of_groceries, recipe_description, filepath)\n",
    "        close_curly_brace(filepath)\n",
    "        put_comma(filepath)\n",
    "    else:\n",
    "        print(\"not empty, bro\")\n",
    "    "
   ]
  },
  {
   "cell_type": "code",
   "execution_count": 31,
   "id": "d2591531",
   "metadata": {},
   "outputs": [],
   "source": [
    "insert_into_json(\"svickova\", [\"mrkev\", \"celer\",\"maso\"], [1,3,4], \"Uvarime svickovou\", \"./kucharka_final.json\")"
   ]
  },
  {
   "cell_type": "code",
   "execution_count": 17,
   "id": "99c5b627",
   "metadata": {},
   "outputs": [
    {
     "data": {
      "text/plain": [
       "False"
      ]
     },
     "execution_count": 17,
     "metadata": {},
     "output_type": "execute_result"
    }
   ],
   "source": [
    "is_empty(\"./kucharka_final.json\")"
   ]
  },
  {
   "cell_type": "code",
   "execution_count": null,
   "id": "5ee12792",
   "metadata": {},
   "outputs": [],
   "source": []
  }
 ],
 "metadata": {
  "kernelspec": {
   "display_name": "Python 3 (ipykernel)",
   "language": "python",
   "name": "python3"
  },
  "language_info": {
   "codemirror_mode": {
    "name": "ipython",
    "version": 3
   },
   "file_extension": ".py",
   "mimetype": "text/x-python",
   "name": "python",
   "nbconvert_exporter": "python",
   "pygments_lexer": "ipython3",
   "version": "3.10.12"
  }
 },
 "nbformat": 4,
 "nbformat_minor": 5
}
