{
 "cells": [
  {
   "cell_type": "code",
   "execution_count": 2,
   "id": "328e2175",
   "metadata": {},
   "outputs": [
    {
     "ename": "SyntaxError",
     "evalue": "invalid decimal literal (3492699684.py, line 20)",
     "output_type": "error",
     "traceback": [
      "\u001b[0;36m  File \u001b[0;32m\"/tmp/ipykernel_2720/3492699684.py\"\u001b[0;36m, line \u001b[0;32m20\u001b[0m\n\u001b[0;31m    combo_box['values'] = 1st\u001b[0m\n\u001b[0m                          ^\u001b[0m\n\u001b[0;31mSyntaxError\u001b[0m\u001b[0;31m:\u001b[0m invalid decimal literal\n"
     ]
    }
   ],
   "source": [
    "from tkinter import *\n",
    "from tkinter import ttk\n",
    "lst = ['c', 'C++', 'Java',\n",
    "'Python', 'Perl',\n",
    "'PHP', 'ASP', 'JS']\n",
    "def check_input(event):\n",
    "value = event.widget.get()\n",
    "if value == '':\n",
    "combo_box['values'] = lst\n",
    "else:\n",
    "\n",
    "data = []\n",
    "for item in lst:\n",
    "if value.lower() in item.lower():\n",
    "data.append(item)\n",
    "combo_box['values'] = data\n",
    "root = Tk()\n",
    "# creating Combobox\n",
    "combo_box = ttk. Combobox(root)\n",
    "combo_box['values'] = 1st\n",
    "combo_box.bind('', check_input)\n",
    "combo_box. pack()\n",
    "root.mainloop()"
   ]
  },
  {
   "cell_type": "code",
   "execution_count": 3,
   "id": "c7694b9a",
   "metadata": {},
   "outputs": [],
   "source": [
    "from tkinter import *\n",
    "from tkinter import ttk\n",
    "\n",
    "lst = ['c', 'C++', 'Java', 'Python', 'Perl', 'PHP', 'ASP', 'JS']\n",
    "\n",
    "def check_input(event):\n",
    "    value = event.widget.get()\n",
    "    if value == '':\n",
    "        combo_box['values'] = lst\n",
    "    else:\n",
    "        data = [item for item in lst if value.lower() in item.lower()]\n",
    "        combo_box['values'] = data\n",
    "\n",
    "root = Tk()\n",
    "\n",
    "# Creating Combobox\n",
    "combo_box = ttk.Combobox(root)\n",
    "combo_box['values'] = lst\n",
    "combo_box.bind('<KeyRelease>', check_input)  # Use '<KeyRelease>' event for text changes\n",
    "combo_box.pack()\n",
    "\n",
    "root.mainloop()\n"
   ]
  },
  {
   "cell_type": "code",
   "execution_count": 4,
   "id": "578666cb",
   "metadata": {},
   "outputs": [],
   "source": [
    "dat = []"
   ]
  },
  {
   "cell_type": "code",
   "execution_count": null,
   "id": "ff85c6af",
   "metadata": {},
   "outputs": [],
   "source": [
    "def autocomplete(self, prefix):\n",
    "    node = self\n",
    "    for ch in prefix:\n",
    "        if ch not in node.children:\n",
    "            return []\n",
    "        node = node.children[ch]\n",
    "    return [prefix+word for word in node.get_strings()]"
   ]
  },
  {
   "cell_type": "code",
   "execution_count": 5,
   "id": "e6ab8429",
   "metadata": {},
   "outputs": [],
   "source": [
    "import autocomplete"
   ]
  },
  {
   "cell_type": "code",
   "execution_count": 6,
   "id": "3ac9e7e3",
   "metadata": {},
   "outputs": [
    {
     "name": "stdout",
     "output_type": "stream",
     "text": [
      "training!\n",
      "Error in opening pickle object. Training on default corpus text.\n",
      "saving to: /home/kejlajan/.local/lib/python3.10/site-packages/autocomplete/models_compressed.pkl\n",
      "done training!\n"
     ]
    },
    {
     "data": {
      "text/plain": [
       "True"
      ]
     },
     "execution_count": 6,
     "metadata": {},
     "output_type": "execute_result"
    }
   ],
   "source": [
    "autocomplete.load()"
   ]
  },
  {
   "cell_type": "code",
   "execution_count": 11,
   "id": "53217379",
   "metadata": {},
   "outputs": [
    {
     "data": {
      "text/plain": [
       "[('age', 2), ('and', 1)]"
      ]
     },
     "execution_count": 11,
     "metadata": {},
     "output_type": "execute_result"
    }
   ],
   "source": [
    "autocomplete.predict(\"modern\", \"a\")"
   ]
  },
  {
   "cell_type": "code",
   "execution_count": null,
   "id": "7e4038c3",
   "metadata": {},
   "outputs": [],
   "source": []
  }
 ],
 "metadata": {
  "kernelspec": {
   "display_name": "Python 3 (ipykernel)",
   "language": "python",
   "name": "python3"
  },
  "language_info": {
   "codemirror_mode": {
    "name": "ipython",
    "version": 3
   },
   "file_extension": ".py",
   "mimetype": "text/x-python",
   "name": "python",
   "nbconvert_exporter": "python",
   "pygments_lexer": "ipython3",
   "version": "3.10.12"
  }
 },
 "nbformat": 4,
 "nbformat_minor": 5
}
