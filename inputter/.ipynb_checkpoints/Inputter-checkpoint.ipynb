{
 "cells": [
  {
   "cell_type": "code",
   "execution_count": null,
   "id": "e50b231f",
   "metadata": {},
   "outputs": [],
   "source": [
    "import json"
   ]
  },
  {
   "cell_type": "code",
   "execution_count": 63,
   "id": "18f7e350",
   "metadata": {},
   "outputs": [],
   "source": [
    "def insert_meal(food_name, list_of_groceries, amounts_of_groceries, recipe_description, filepath):\n",
    "    new_meal = {\n",
    "        food_name: {\n",
    "            \"surky\": list_of_groceries,\n",
    "            \"mnozstvi\": amounts_of_groceries,\n",
    "            \"popis\": recipe_description\n",
    "        }\n",
    "    }\n",
    "    \n",
    "    try:\n",
    "        with open(filepath, \"r\") as file:\n",
    "            old_content = dict(json.load(file))\n",
    "        \n",
    "        old_content.update(new_meal) #add the dict_item\n",
    "        \n",
    "        with open(filepath, \"w\") as file:\n",
    "            json.dump(old_content, file, indent=4)\n",
    "            \n",
    "    except FileNotFoundError:\n",
    "        print(\"Neplatna cesta k souboru s kucharkou.\")\n",
    "    except Exception as e:\n",
    "        print(f\"An unexpected error occurred: {e}\")\n",
    "        \n",
    "    \n",
    "    "
   ]
  },
  {
   "cell_type": "code",
   "execution_count": 65,
   "id": "0456f83f",
   "metadata": {},
   "outputs": [],
   "source": [
    "insert_meal(\"svitek\", [\"mrkev\", \"celer\",\"maso\"], [1,3,4], \"Uvarime svitek\", \"./kucharka_final.json\")"
   ]
  },
  {
   "cell_type": "code",
   "execution_count": 48,
   "id": "0f38d62b",
   "metadata": {},
   "outputs": [],
   "source": [
    "kucharka = {\n",
    "    \"jidla\":\n",
    "        {\n",
    "            \"svickova\": {\n",
    "                \"surky\": [\n",
    "                    \"mrkev\",\n",
    "                    \"celer\",\n",
    "                    \"maso\"\n",
    "                ],\n",
    "                \"mnozstvi\": [\n",
    "                    1,\n",
    "                    3,\n",
    "                    4\n",
    "                ],\n",
    "                \"popis\": \"Uvarime svickovou\"\n",
    "            },\n",
    " \"koprovka\": {\n",
    "                \"surky\": [\n",
    "                    \"mrkev\",\n",
    "                    \"celer\",\n",
    "                    \"maso\"\n",
    "                ],\n",
    "                \"mnozstvi\": [\n",
    "                    1,\n",
    "                    3,\n",
    "                    4\n",
    "                ],\n",
    "                \"popis\": \"Uvarime svickovou\"\n",
    "            }\n",
    "\n",
    "\n",
    "        }\n",
    "}"
   ]
  },
  {
   "cell_type": "code",
   "execution_count": 50,
   "id": "5b81474b",
   "metadata": {},
   "outputs": [],
   "source": [
    "bramboracky = {\"bramboracky\":\n",
    "                  {\n",
    "                      \"surky\":[\"brambory\", \"olej\"],\n",
    "                      \"mnozstvi\": [1,4],              \n",
    "                      \"popis\":[\"Nastrouhame brambory, zasypem moukou a smazime\"]\n",
    "                  }\n",
    "              }"
   ]
  },
  {
   "cell_type": "code",
   "execution_count": 53,
   "id": "6eb564c7",
   "metadata": {},
   "outputs": [],
   "source": [
    "kucharka.update(bramboracky)"
   ]
  },
  {
   "cell_type": "code",
   "execution_count": 54,
   "id": "656a94de",
   "metadata": {},
   "outputs": [
    {
     "data": {
      "text/plain": [
       "{'jidla': {'svickova': {'surky': ['mrkev', 'celer', 'maso'],\n",
       "   'mnozstvi': [1, 3, 4],\n",
       "   'popis': 'Uvarime svickovou'},\n",
       "  'koprovka': {'surky': ['mrkev', 'celer', 'maso'],\n",
       "   'mnozstvi': [1, 3, 4],\n",
       "   'popis': 'Uvarime svickovou'}},\n",
       " 'bramboracky': {'surky': ['brambory', 'olej'],\n",
       "  'mnozstvi': [1, 4],\n",
       "  'popis': ['Nastrouhame brambory, zasypem moukou a smazime']}}"
      ]
     },
     "execution_count": 54,
     "metadata": {},
     "output_type": "execute_result"
    }
   ],
   "source": [
    "kucharka"
   ]
  },
  {
   "cell_type": "code",
   "execution_count": 2,
   "id": "d2591531",
   "metadata": {
    "scrolled": true
   },
   "outputs": [
    {
     "name": "stdout",
     "output_type": "stream",
     "text": [
      "not empty, bro\n"
     ]
    }
   ],
   "source": [
    "insert_into_json(\"svickova\", [\"mrkev\", \"celer\",\"maso\"], [1,3,4], \"Uvarime svickovou\", \"./kucharka_fin.json\")"
   ]
  },
  {
   "cell_type": "code",
   "execution_count": 3,
   "id": "99c5b627",
   "metadata": {},
   "outputs": [
    {
     "data": {
      "text/plain": [
       "False"
      ]
     },
     "execution_count": 3,
     "metadata": {},
     "output_type": "execute_result"
    }
   ],
   "source": [
    "is_empty(\"./kucharka_final.json\")"
   ]
  },
  {
   "cell_type": "code",
   "execution_count": 5,
   "id": "7d2788b5",
   "metadata": {},
   "outputs": [],
   "source": [
    "my_dict = {\"ahoj\":[1,3,4,5,6]}"
   ]
  },
  {
   "cell_type": "code",
   "execution_count": 8,
   "id": "71e13487",
   "metadata": {},
   "outputs": [],
   "source": [
    "my_dict.update(food_data)"
   ]
  },
  {
   "cell_type": "code",
   "execution_count": 9,
   "id": "226d4bf5",
   "metadata": {},
   "outputs": [
    {
     "data": {
      "text/plain": [
       "{'ahoj': [1, 3, 4, 5, 6],\n",
       " 'food_name': 'Spaghetti Bolognese',\n",
       " 'food_recipe': 'A delicious spaghetti recipe with Bolognese sauce.',\n",
       " 'raw_groceries': ['spaghetti', 'ground beef', 'tomatoes', 'onions', 'garlic'],\n",
       " 'amount_groceries': [400, 300, 500, 150, 3]}"
      ]
     },
     "execution_count": 9,
     "metadata": {},
     "output_type": "execute_result"
    }
   ],
   "source": [
    "my_dict"
   ]
  },
  {
   "cell_type": "code",
   "execution_count": 41,
   "id": "5bbefbd1",
   "metadata": {},
   "outputs": [],
   "source": [
    "my_dict = {\"sub_dict1\": {\"svickova\":{\"bla\":[124,345,34]}}}"
   ]
  },
  {
   "cell_type": "code",
   "execution_count": null,
   "id": "e6426613",
   "metadata": {},
   "outputs": [],
   "source": []
  }
 ],
 "metadata": {
  "kernelspec": {
   "display_name": "Python 3 (ipykernel)",
   "language": "python",
   "name": "python3"
  },
  "language_info": {
   "codemirror_mode": {
    "name": "ipython",
    "version": 3
   },
   "file_extension": ".py",
   "mimetype": "text/x-python",
   "name": "python",
   "nbconvert_exporter": "python",
   "pygments_lexer": "ipython3",
   "version": "3.10.12"
  }
 },
 "nbformat": 4,
 "nbformat_minor": 5
}
